{
  "nbformat": 4,
  "nbformat_minor": 0,
  "metadata": {
    "colab": {
      "name": "task2_final-solutions.ipynb",
      "provenance": [],
      "collapsed_sections": []
    },
    "kernelspec": {
      "name": "python3",
      "display_name": "Python 3"
    }
  },
  "cells": [
    {
      "cell_type": "markdown",
      "metadata": {
        "id": "Eo8GLZeLTS1X"
      },
      "source": [
        "# **Task 2 - Balanced Random Network (Moderate)**\n",
        "\n",
        "This task will create a \"balanced random network\" that is similar to part of the Cortex in the brain. It consists of two generic populations of excitatory (E) and inhibitory (I) neurons. Based on biological observations, there is a classical ratio of 4 excitatory neurons for 1 inhibitory neuron and a sparse, random reciprocal connectivity. The network generates a balanced regime where the average depolarization of the neurons is roughly constant, subthreshold, and an asynchronous irregular spiking is the result of fluctuations. Depending on certain key parameters, mainly the amount of external noise injected and the balance between E-I weights, several regimes of activity can be observed. Those regime have been described and classified in [Brunel, 2000], and can be asynchronous/synchronous (from a population viewpoint) or regular/irregular (from a neuron viewpoint).\n",
        "\n",
        "In this implementation, we will take some input from outside of the network, representing the surrounding neurons, in the form of strongly-active Poisson spike sources. These will then feed into excitatory and inhibitory populations of LIF neurons, having a 4:1 ratio and set up in a balanced random fashion. We will use distributions of weights and delays as would occur in the brain.\n",
        "\n",
        "**Run the following cell before you start!**\n"
      ]
    },
    {
      "cell_type": "code",
      "metadata": {
        "id": "ok09fb0-aRv5",
        "colab": {
          "base_uri": "https://localhost:8080/"
        },
        "outputId": "75518a31-4e34-4826-980d-b6ef317fbd21"
      },
      "source": [
        "# RUN THIS CELL\n",
        "!pip install brian2\n",
        "from brian2 import *"
      ],
      "execution_count": null,
      "outputs": [
        {
          "output_type": "stream",
          "text": [
            "Collecting brian2\n",
            "\u001b[?25l  Downloading https://files.pythonhosted.org/packages/9a/c7/565012c479953d041d5e828938515d3c402d0c3f4942180f1c44cb0f472e/Brian2-2.4.2.tar.gz (1.2MB)\n",
            "\u001b[K     |████████████████████████████████| 1.2MB 13.1MB/s \n",
            "\u001b[?25hRequirement already satisfied: numpy>=1.15 in /usr/local/lib/python3.6/dist-packages (from brian2) (1.18.5)\n",
            "Requirement already satisfied: cython>=0.29 in /usr/local/lib/python3.6/dist-packages (from brian2) (0.29.21)\n",
            "Collecting sympy>=1.2\n",
            "\u001b[?25l  Downloading https://files.pythonhosted.org/packages/e0/1f/8cbbf698e853019ac3dc5d60ca8f6be4ace4542b2f05f7b62949617fc98e/sympy-1.6.2-py3-none-any.whl (5.8MB)\n",
            "\u001b[K     |████████████████████████████████| 5.8MB 52.0MB/s \n",
            "\u001b[?25hRequirement already satisfied: pyparsing in /usr/local/lib/python3.6/dist-packages (from brian2) (2.4.7)\n",
            "Requirement already satisfied: jinja2>=2.7 in /usr/local/lib/python3.6/dist-packages (from brian2) (2.11.2)\n",
            "Requirement already satisfied: setuptools>=24.2 in /usr/local/lib/python3.6/dist-packages (from brian2) (50.3.2)\n",
            "Requirement already satisfied: mpmath>=0.19 in /usr/local/lib/python3.6/dist-packages (from sympy>=1.2->brian2) (1.1.0)\n",
            "Requirement already satisfied: MarkupSafe>=0.23 in /usr/local/lib/python3.6/dist-packages (from jinja2>=2.7->brian2) (1.1.1)\n",
            "Building wheels for collected packages: brian2\n",
            "  Building wheel for brian2 (setup.py) ... \u001b[?25l\u001b[?25hdone\n",
            "  Created wheel for brian2: filename=Brian2-2.4.2-cp36-cp36m-linux_x86_64.whl size=1257539 sha256=182ba74de2c4337a779011a9914112b1cea2a7a98db3ef8cb675ffcfff9db154\n",
            "  Stored in directory: /root/.cache/pip/wheels/5d/4b/cf/ef50e71df5479d67f981cbb17b1d842381019d27ba144d57de\n",
            "Successfully built brian2\n",
            "Installing collected packages: sympy, brian2\n",
            "  Found existing installation: sympy 1.1.1\n",
            "    Uninstalling sympy-1.1.1:\n",
            "      Successfully uninstalled sympy-1.1.1\n",
            "Successfully installed brian2-2.4.2 sympy-1.6.2\n"
          ],
          "name": "stdout"
        }
      ]
    },
    {
      "cell_type": "markdown",
      "metadata": {
        "id": "r_Yl6-MmXJYT"
      },
      "source": [
        "Create a variable containing the number of neurons to be simulated in the network and set this to 100. Then set up the simulation to use 0.1ms timesteps."
      ]
    },
    {
      "cell_type": "code",
      "metadata": {
        "id": "2xDudGj6uQ1d"
      },
      "source": [
        "# Write your code here"
      ],
      "execution_count": null,
      "outputs": []
    },
    {
      "cell_type": "code",
      "metadata": {
        "id": "QcX52dGbYfBU",
        "cellView": "form"
      },
      "source": [
        "#@title Double-click here for solution\n",
        "\n",
        "N_neurons = 100\n",
        "dt = 0.1 * ms\n",
        "defaultclock.dt = dt"
      ],
      "execution_count": null,
      "outputs": []
    },
    {
      "cell_type": "markdown",
      "metadata": {
        "id": "fW1mOi8IYfY8"
      },
      "source": [
        "Create two input (stimulation) populations with Poisson spiking statistics having a mean firing rate of 1000Hz. The first population will be excitatory and should have 80% of the neurons, the second will be inhibitory and should have the remaining 20% of the neurons (hint: the number of neurons needs to be integers)."
      ]
    },
    {
      "cell_type": "code",
      "metadata": {
        "id": "9J0sJfm-uS29"
      },
      "source": [
        "# Write your code here"
      ],
      "execution_count": null,
      "outputs": []
    },
    {
      "cell_type": "code",
      "metadata": {
        "id": "00-YQ0VoYfga",
        "cellView": "form"
      },
      "source": [
        "#@title Double-click here for solution\n",
        "\n",
        "N_exc = int(N_neurons * 0.8)\n",
        "N_inh = N_neurons - N_exc\n",
        "Input_exc = PoissonGroup(N_exc, rates=1000 * Hz)\n",
        "Input_inh = PoissonGroup(N_inh, rates=1000 * Hz)"
      ],
      "execution_count": null,
      "outputs": []
    },
    {
      "cell_type": "markdown",
      "metadata": {
        "id": "xUh-0ufiYfIL"
      },
      "source": [
        "Create two LIF populations: an excitatory population with 80% of the neurons and an inhibitory population with 20% of the neurons. Set the membrane time constant to 20ms, the synaptic time constant to 5ms, the refractory period to 2ms, the threshold to -50mV and the reset potential to -65mV.\n",
        "\n",
        "You should then set a different resting potential for every neuron (<u>important hint</u>: to do so, you must first of all make the resting potential *u_rest* an internal variable of the populations by adding a new line in the definition of the LIF model where you specify its dimension with \"u_rest  :  volt\"). Create two arrays for storing the resting potentials of the neurons in the two poulations (e.g. *u_rest_exc* and *u_rest_inh*). These arrays will store values extracted from uniform distributions ranging from -65mV to -60mV (hint: use the function \"*np.random.uniform*\"). Initialize the membrane potential of the populations with such values and, finally, inform the populations of the resting values to use by calling their *u_rest* variable and setting it equal to the corresponding array (e.g. *Pop_exc.u_rest = u_rest_exc*)."
      ]
    },
    {
      "cell_type": "code",
      "metadata": {
        "id": "dKit1LL1uSLV"
      },
      "source": [
        "# Write your code here"
      ],
      "execution_count": null,
      "outputs": []
    },
    {
      "cell_type": "code",
      "metadata": {
        "id": "N0jcZq8zL9c_",
        "cellView": "form"
      },
      "source": [
        "#@title Double-click here for solution\n",
        "\n",
        "tau_m = 20 * ms\n",
        "tau_s = 5 * ms\n",
        "tau_ref = 2 * ms\n",
        "u_th = -50 * mV\n",
        "u_reset = -65 * mV\n",
        "\n",
        "u_rest_exc = np.random.uniform(low=-65, high=-60, size=N_exc) * mV\n",
        "u_rest_inh = np.random.uniform(low=-65, high=-60, size=N_inh) * mV\n",
        "\n",
        "model = '''\n",
        "du/dt = - (u - u_rest - u_s) / tau_m   : volt  (unless refractory)\n",
        "du_s/dt = - u_s / tau_s                : volt\n",
        "u_rest                                 : volt\n",
        "'''\n",
        "\n",
        "Pop_exc = NeuronGroup(N=N_exc, model=model, threshold='u >= u_th',\n",
        "                      reset='u = u_reset', method='euler', refractory=tau_ref)\n",
        "Pop_exc.u = u_rest_exc\n",
        "Pop_exc.u_rest = u_rest_exc\n",
        "\n",
        "Pop_inh = NeuronGroup(N=N_inh, model=model, threshold='u >= u_th',\n",
        "                      reset='u = u_reset', method='euler', refractory=tau_ref)\n",
        "Pop_inh.u = u_rest_inh\n",
        "Pop_inh.u_rest = u_rest_inh"
      ],
      "execution_count": null,
      "outputs": []
    },
    {
      "cell_type": "markdown",
      "metadata": {
        "id": "LPPyyYAoY9B5"
      },
      "source": [
        "Create a one-to-one excitatory connection from the excitatory Poisson input population to the excitatory LIF population, and a similar excitatory connection from the inhibitory Poisson population to the inhibitory LIF population. Set all the weights to 2.2mV and the delays to 1.0ms."
      ]
    },
    {
      "cell_type": "code",
      "metadata": {
        "id": "io3D4NN4uUU0"
      },
      "source": [
        "# Write your code here"
      ],
      "execution_count": null,
      "outputs": []
    },
    {
      "cell_type": "code",
      "metadata": {
        "id": "n4KGGsF2Y_8Y",
        "cellView": "form"
      },
      "source": [
        "#@title Double-click here for solution\n",
        "\n",
        "Syn_ee_input = Synapses(Input_exc, Pop_exc,\n",
        "                  model=\"\"\"w : volt\"\"\", on_pre='u_s += w', delay=1. * ms)\n",
        "Syn_ee_input.connect(j='i')\n",
        "Syn_ee_input.w = 2.2 * mV\n",
        "\n",
        "Syn_ii_input = Synapses(Input_inh, Pop_inh,\n",
        "                  model=\"\"\"w : volt\"\"\", on_pre='u_s += w', delay=1. * ms)\n",
        "Syn_ii_input.connect(j='i')\n",
        "Syn_ii_input.w = 2.2 * mV"
      ],
      "execution_count": null,
      "outputs": []
    },
    {
      "cell_type": "markdown",
      "metadata": {
        "id": "PwC9F3fGZAGu"
      },
      "source": [
        "Create two excitatory connections from the excitatory LIF population to itself (E-self) and to the inhibitory LIF population (E-I). Use:\n",
        " - a fixed probability of connection of 0.1\n",
        " - a normal distribution of positive weights with a mean of 0mV and a standard deviation of 2mV (hint: use the function \"*np.random.normal*\" and make all weights positive by applying the \"*np.abs*\" function)\n",
        " - a normal distribution of delays with a mean of 1.5ms and standard deviation of 0.75ms\n",
        "\n",
        "Note that weights and delays must be different for every connection in the \"*Synapses*\" objects."
      ]
    },
    {
      "cell_type": "code",
      "metadata": {
        "id": "_fcwFcg5fOtR"
      },
      "source": [
        "# Write your code here"
      ],
      "execution_count": null,
      "outputs": []
    },
    {
      "cell_type": "code",
      "metadata": {
        "id": "4hfcTB17ZDYJ",
        "cellView": "form"
      },
      "source": [
        "#@title Double-click here for solution\n",
        "\n",
        "Syn_e_self = Synapses(Pop_exc, Pop_exc,\n",
        "                      model=\"\"\"w : volt\"\"\", on_pre='u_s += w')\n",
        "Syn_e_self.connect(p=0.1)\n",
        "Syn_e_self.w = np.abs(np.random.normal(loc=0, scale=2, size=len(Syn_e_self))) * mV\n",
        "Syn_e_self.delay = np.random.normal(loc=1.5, scale=.75, size=len(Syn_e_self)) * ms\n",
        "\n",
        "Syn_ei = Synapses(Pop_exc, Pop_inh,\n",
        "                  model=\"\"\"w : volt\"\"\", on_pre='u_s += w')\n",
        "Syn_ei.connect(p=0.1)\n",
        "Syn_ei.w = np.abs(np.random.normal(loc=0, scale=2, size=len(Syn_ei))) * mV\n",
        "Syn_ei.delay = np.random.normal(loc=1.5, scale=.75, size=len(Syn_ei)) * ms"
      ],
      "execution_count": null,
      "outputs": []
    },
    {
      "cell_type": "markdown",
      "metadata": {
        "id": "kKaVEoVwZDi5"
      },
      "source": [
        "Create two similar connections (with 0.1 probability) between the inhibitory LIF population and itself (I-self) and to the excitatory LIF population (I-E). Set weights and delays with same distributions as before, but make the weights negative (inhibitory) and four times bigger than before."
      ]
    },
    {
      "cell_type": "code",
      "metadata": {
        "id": "NSBs7eT2uVkB"
      },
      "source": [
        "# Write your code here"
      ],
      "execution_count": null,
      "outputs": []
    },
    {
      "cell_type": "code",
      "metadata": {
        "id": "6WImHnGBZGMm",
        "cellView": "form"
      },
      "source": [
        "#@title Double-click here for solution\n",
        "\n",
        "Syn_i_self = Synapses(Pop_inh, Pop_inh,\n",
        "                      model=\"\"\"w : volt\"\"\", on_pre='u_s += w')\n",
        "Syn_i_self.connect(p=0.1)\n",
        "Syn_i_self.w = - 4 * np.abs(np.random.normal(loc=0, scale=2, size=len(Syn_i_self))) * mV\n",
        "Syn_i_self.delay = np.random.normal(loc=1.5, scale=.75, size=len(Syn_i_self)) * ms\n",
        "\n",
        "Syn_ie = Synapses(Pop_inh, Pop_exc,\n",
        "                  model=\"\"\"w : volt\"\"\", on_pre='u_s += w')\n",
        "Syn_ie.connect(p=0.1)\n",
        "Syn_ie.w = - 4 * np.abs(np.random.normal(loc=0, scale=2, size=len(Syn_ie))) * mV\n",
        "Syn_ie.delay = np.random.normal(loc=1.5, scale=.75, size=len(Syn_ie)) * ms"
      ],
      "execution_count": null,
      "outputs": []
    },
    {
      "cell_type": "markdown",
      "metadata": {
        "id": "pdZRQKBvfSJG"
      },
      "source": [
        "If you wish, you may visualise the connectivity you have built by using the given function."
      ]
    },
    {
      "cell_type": "code",
      "metadata": {
        "id": "20-7NBxNuU_p"
      },
      "source": [
        "def visualise_connectivity(S):\n",
        "    Ns = len(S.source)\n",
        "    Nt = len(S.target)\n",
        "    figure(figsize=(12, 6))\n",
        "    subplot(121)\n",
        "    plot(np.zeros(Ns), np.arange(Ns), 'ok', ms=8)\n",
        "    plot(np.ones(Nt), np.arange(Nt), 'ok', ms=8)\n",
        "    for i, j in zip(S.i, S.j):\n",
        "        plot([0, 1], [i, j], '-k')\n",
        "    xticks([0, 1], ['Source', 'Target'])\n",
        "    ylabel('Neuron index')\n",
        "    xlim(-0.1, 1.1)\n",
        "    ylim(-1, max(Ns, Nt))\n",
        "    subplot(122)\n",
        "    plot(S.i, S.j, 'ok')\n",
        "    xlim(-1, Ns)\n",
        "    ylim(-1, Nt)\n",
        "    xlabel('Source neuron index')\n",
        "    ylabel('Target neuron index')\n",
        "    show()\n",
        "\n",
        "# Write your code here"
      ],
      "execution_count": null,
      "outputs": []
    },
    {
      "cell_type": "markdown",
      "metadata": {
        "id": "-s4aXrthZK3x"
      },
      "source": [
        "Record the spikes from the both excitatory and inhibitory populations."
      ]
    },
    {
      "cell_type": "code",
      "metadata": {
        "id": "XR6bEx3fuWKB"
      },
      "source": [
        "# Write your code here"
      ],
      "execution_count": null,
      "outputs": []
    },
    {
      "cell_type": "code",
      "metadata": {
        "id": "4-pHlBqlZN_X",
        "cellView": "form"
      },
      "source": [
        "#@title Double-click here for solution\n",
        "\n",
        "Mon_spikes_exc = SpikeMonitor(Pop_exc)\n",
        "Mon_spikes_inh = SpikeMonitor(Pop_inh)"
      ],
      "execution_count": null,
      "outputs": []
    },
    {
      "cell_type": "markdown",
      "metadata": {
        "id": "myW-81zgrohh"
      },
      "source": [
        "Build the network adding all the elements."
      ]
    },
    {
      "cell_type": "code",
      "metadata": {
        "id": "u44aEVcjuWt9"
      },
      "source": [
        "# Write your code here"
      ],
      "execution_count": null,
      "outputs": []
    },
    {
      "cell_type": "code",
      "metadata": {
        "id": "egb1snIXrthC",
        "cellView": "form"
      },
      "source": [
        "#@title Double-click here for solution\n",
        "\n",
        "net = Network(Input_exc, Input_inh, Pop_exc, Pop_inh,\n",
        "              Syn_ee_input, Syn_ii_input, Syn_e_self, Syn_ei, Syn_i_self, Syn_ie,\n",
        "              Mon_spikes_exc, Mon_spikes_inh)"
      ],
      "execution_count": null,
      "outputs": []
    },
    {
      "cell_type": "markdown",
      "metadata": {
        "id": "9cYk1na-ZOFz"
      },
      "source": [
        "Run the simulation for 1 second."
      ]
    },
    {
      "cell_type": "code",
      "metadata": {
        "id": "EAbIjdcVuXP_"
      },
      "source": [
        "# Write your code here"
      ],
      "execution_count": null,
      "outputs": []
    },
    {
      "cell_type": "code",
      "metadata": {
        "id": "DPg9D3SWZQT4",
        "colab": {
          "base_uri": "https://localhost:8080/"
        },
        "cellView": "form",
        "outputId": "34ca36ae-cf55-4530-9b59-810b87c7e02d"
      },
      "source": [
        "#@title Double-click here for solution\n",
        "\n",
        "T = 1000 * ms\n",
        "net.run(T, report='stdout')"
      ],
      "execution_count": null,
      "outputs": [
        {
          "output_type": "stream",
          "text": [
            "WARNING    \"dt\" is an internal variable of group \"poissongroup_1\", but also exists in the run namespace with the value 100. * usecond. The internal variable will be used. [brian2.groups.group.Group.resolve.resolution_conflict]\n",
            "WARNING    \"dt\" is an internal variable of group \"poissongroup\", but also exists in the run namespace with the value 100. * usecond. The internal variable will be used. [brian2.groups.group.Group.resolve.resolution_conflict]\n"
          ],
          "name": "stderr"
        },
        {
          "output_type": "stream",
          "text": [
            "Starting simulation at t=0. s for a duration of 1. s\n",
            "1. s (100%) simulated in 1s\n"
          ],
          "name": "stdout"
        }
      ]
    },
    {
      "cell_type": "markdown",
      "metadata": {
        "id": "fvMg6L4vZQbE"
      },
      "source": [
        "Retrieve spikes and visualise a rasterplot of the spiking activity. Distinguish between spikes from the excitatory and inhibitory populations."
      ]
    },
    {
      "cell_type": "code",
      "metadata": {
        "id": "JoZS6dy-uX8o"
      },
      "source": [
        "# Write your code here"
      ],
      "execution_count": null,
      "outputs": []
    },
    {
      "cell_type": "code",
      "metadata": {
        "id": "vMnTRrIKZT6z",
        "colab": {
          "base_uri": "https://localhost:8080/",
          "height": 409
        },
        "cellView": "form",
        "outputId": "2cf24721-9c41-4477-8e16-cf512b497550"
      },
      "source": [
        "#@title Double-click here for solution\n",
        "\n",
        "N = int(round(T/dt))\n",
        "times = np.linspace(0, T / ms, N, endpoint=False)\n",
        "spike_times_exc = Mon_spikes_exc.t / ms\n",
        "spike_id_exc = Mon_spikes_exc.i\n",
        "spike_times_inh = Mon_spikes_inh.t / ms\n",
        "spike_id_inh = Mon_spikes_inh.i\n",
        "\n",
        "figure(figsize=(8, 6))\n",
        "scatter(spike_times_exc, spike_id_exc, c='blue', s=10)\n",
        "scatter(spike_times_inh, spike_id_inh + N_exc, c='red', s=10)\n",
        "xlabel('time [ms]', fontsize=13)\n",
        "ylabel('neuron ID', fontsize=13)\n",
        "ylim(0, N_neurons - 1)\n",
        "xlim(0, T / ms)\n",
        "title('Rasterplot of the Output Activity', fontsize=16)\n",
        "show()"
      ],
      "execution_count": null,
      "outputs": [
        {
          "output_type": "display_data",
          "data": {
            "image/png": "[encoded data removed]",
            "text/plain": [
              "<Figure size 576x432 with 1 Axes>"
            ]
          },
          "metadata": {
            "tags": [],
            "needs_background": "light"
          }
        }
      ]
    },
    {
      "cell_type": "markdown",
      "metadata": {
        "id": "jQNHt0bXZULM"
      },
      "source": [
        "The graph should show what is known as *asynchronous irregular spiking activity*, this means that the neurons in the population don’t spike very often, and when they do it is not at the same time as other neurons in the population.\n"
      ]
    },
    {
      "cell_type": "markdown",
      "metadata": {
        "id": "eEJQ6mMjZc_v"
      },
      "source": [
        "\n",
        "---\n",
        "\n",
        "#### **Extension**\n",
        "\n",
        "Try adding an additional population of 100 neurons that stimulates the E population with 50Hz Poisson noise using an all-to-all connector, and a weight of 0.06mV. See what other behavior you can get by trying to alter the rate of this new population."
      ]
    },
    {
      "cell_type": "code",
      "metadata": {
        "id": "VBbwIA5Yuh-1"
      },
      "source": [
        "# Write your code here"
      ],
      "execution_count": null,
      "outputs": []
    },
    {
      "cell_type": "code",
      "metadata": {
        "id": "VHrCHr2eb41_",
        "cellView": "form"
      },
      "source": [
        "#@title Double-click here for solution\n",
        "\n",
        "# ---------------- 1. Establish the time-step of the simulation ----------------\n",
        "dt = 0.1 * ms\n",
        "defaultclock.dt = dt\n",
        "\n",
        "# ---------------------- 2. Create the neural populations ----------------------\n",
        "N_neurons = 100\n",
        "N_exc = int(N_neurons * 0.8)\n",
        "N_inh = N_neurons - N_exc\n",
        "tau_m = 20 * ms\n",
        "tau_s = 5 * ms\n",
        "tau_ref = 2 * ms\n",
        "u_th = -50 * mV\n",
        "u_reset = -65 * mV\n",
        "model = '''\n",
        "du/dt = - (u - u_rest - u_s) / tau_m   : volt  (unless refractory)\n",
        "du_s/dt = - u_s / tau_s                : volt\n",
        "u_rest                                 : volt\n",
        "'''\n",
        "\n",
        "u_rest_exc = np.random.uniform(low=-65, high=-60, size=N_exc) * mV\n",
        "u_rest_inh = np.random.uniform(low=-65, high=-60, size=N_inh) * mV\n",
        "\n",
        "Pop_exc = NeuronGroup(N=N_exc, model=model, threshold='u >= u_th',\n",
        "                      reset='u = u_reset', method='euler', refractory=tau_ref)\n",
        "Pop_exc.u = u_rest_exc\n",
        "Pop_exc.u_rest = u_rest_exc\n",
        "Pop_inh = NeuronGroup(N=N_inh, model=model, threshold='u >= u_th',\n",
        "                      reset='u = u_reset', method='euler', refractory=tau_ref)\n",
        "\n",
        "Pop_inh.u = u_rest_inh\n",
        "Pop_inh.u_rest = u_rest_inh\n",
        "Input_exc = PoissonGroup(N_exc, rates=1000 * Hz)\n",
        "Input_inh = PoissonGroup(N_inh, rates=1000 * Hz)\n",
        "\n",
        "# Add the new population\n",
        "Pop_new = PoissonGroup(N_neurons, rates=50 * Hz)\n",
        "\n",
        "# --------------------------- 3. Create the synapses ---------------------------\n",
        "Syn_ee_input = Synapses(Input_exc, Pop_exc,\n",
        "                  model=\"\"\"w : volt\"\"\", on_pre='u_s += w', delay=1. * ms)\n",
        "Syn_ee_input.connect(j='i')\n",
        "Syn_ee_input.w = 2.2 * mV\n",
        "\n",
        "Syn_ii_input = Synapses(Input_inh, Pop_inh,\n",
        "                  model=\"\"\"w : volt\"\"\", on_pre='u_s += w', delay=1. * ms)\n",
        "Syn_ii_input.connect(j='i')\n",
        "Syn_ii_input.w = 2.2 * mV\n",
        "\n",
        "Syn_e_self = Synapses(Pop_exc, Pop_exc,\n",
        "                      model=\"\"\"w : volt\"\"\", on_pre='u_s += w')\n",
        "Syn_e_self.connect(p=0.1)\n",
        "Syn_e_self.w = np.abs(np.random.normal(loc=0, scale=2, size=len(Syn_e_self))) * mV\n",
        "Syn_e_self.delay = np.random.normal(loc=1.5, scale=.75, size=len(Syn_e_self)) * ms\n",
        "\n",
        "Syn_ei = Synapses(Pop_exc, Pop_inh,\n",
        "                  model=\"\"\"w : volt\"\"\", on_pre='u_s += w')\n",
        "Syn_ei.connect(p=0.1)\n",
        "Syn_ei.w = np.abs(np.random.normal(loc=0, scale=2, size=len(Syn_ei))) * mV\n",
        "Syn_ei.delay = np.random.normal(loc=1.5, scale=.75, size=len(Syn_ei)) * ms\n",
        "\n",
        "Syn_i_self = Synapses(Pop_inh, Pop_inh,\n",
        "                      model=\"\"\"w : volt\"\"\", on_pre='u_s += w')\n",
        "Syn_i_self.connect(p=0.1)\n",
        "Syn_i_self.w = - 4 * np.abs(np.random.normal(loc=0, scale=2, size=len(Syn_i_self))) * mV\n",
        "Syn_i_self.delay = np.random.normal(loc=1.5, scale=.75, size=len(Syn_i_self)) * ms\n",
        "\n",
        "Syn_ie = Synapses(Pop_inh, Pop_exc,\n",
        "                  model=\"\"\"w : volt\"\"\", on_pre='u_s += w')\n",
        "Syn_ie.connect(p=0.1)\n",
        "Syn_ie.w = - 4 * np.abs(np.random.normal(loc=0, scale=2, size=len(Syn_ie))) * mV\n",
        "Syn_ie.delay = np.random.normal(loc=1.5, scale=.75, size=len(Syn_ie)) * ms\n",
        "\n",
        "# Add the new synapse\n",
        "Syn_new = Synapses(Pop_new, Pop_exc,\n",
        "                   model=\"\"\"w : volt\"\"\", on_pre='u_s += w')\n",
        "Syn_new.connect()\n",
        "Syn_new.w = 0.06 * mV\n",
        "\n",
        "# -------------------------- 4. Setup data monitoring --------------------------\n",
        "Mon_spikes_exc = SpikeMonitor(Pop_exc)\n",
        "Mon_spikes_inh = SpikeMonitor(Pop_inh)\n",
        "\n",
        "\n",
        "# -------------------- 5. Build and feed the network object --------------------\n",
        "\n",
        "# Add the new elements to the network\n",
        "net = Network(Input_exc, Input_inh, Pop_exc, Pop_inh, Pop_new, Mon_spikes_exc, Mon_spikes_inh,\n",
        "              Syn_ee_input, Syn_ii_input, Syn_e_self, Syn_ei, Syn_i_self, Syn_ie, Syn_new)\n",
        "\n",
        "# --------------------------- 6. Run the simulation ----------------------------\n",
        "T = 1000 * ms\n",
        "net.run(T, report='stdout')\n",
        "\n",
        "# ------------------ 7. Retrieve and plot the recorded data --------------------\n",
        "N = int(round(T/dt))\n",
        "times = np.linspace(0, T / ms, N, endpoint=False)\n",
        "spike_times_exc = Mon_spikes_exc.t / ms\n",
        "spike_id_exc = Mon_spikes_exc.i\n",
        "spike_times_inh = Mon_spikes_inh.t / ms\n",
        "spike_id_inh = Mon_spikes_inh.i\n",
        "\n",
        "figure(figsize=(8, 6))\n",
        "scatter(spike_times_exc, spike_id_exc, c='blue', s=10)\n",
        "scatter(spike_times_inh, spike_id_inh + N_exc, c='red', s=10)\n",
        "xlabel('time [ms]', fontsize=13)\n",
        "ylabel('neuron ID', fontsize=13)\n",
        "ylim(0, N_neurons - 1)\n",
        "xlim(0, T / ms)\n",
        "title('Rasterplot of the Output Activity', fontsize=16)\n",
        "show()"
      ],
      "execution_count": null,
      "outputs": []
    }
  ]
}
