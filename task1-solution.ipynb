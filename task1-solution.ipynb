{
  "nbformat": 4,
  "nbformat_minor": 0,
  "metadata": {
    "colab": {
      "name": "task1_final-solutions.ipynb",
      "provenance": [],
      "collapsed_sections": []
    },
    "kernelspec": {
      "name": "python3",
      "display_name": "Python 3"
    }
  },
  "cells": [
    {
      "cell_type": "markdown",
      "metadata": {
        "id": "yHJuMFW5LQwD"
      },
      "source": [
        "# **Task 1 - Synfire Chain (Simple)**\n",
        "This task will create a network known as a \"Synfire chain\" (which stands for synchronous firing chain). In this network, a neuron or set of neurons spike and cause activity in an ongoing chain of neurons or populations, which then repeats. The neural impulses thus propagate synchronously back and forth from neuron (population) to neuron (population). \n",
        "\n",
        "In this implementation, each neuron feeds excitatory connections to the next neuron in the chain, and the last neuron feeds the first one to close the loop. An external spike to the first neuron triggers the overall activity.\n",
        "\n",
        "**Run the following cell before you start!**"
      ]
    },
    {
      "cell_type": "code",
      "metadata": {
        "id": "nqB7rEWECbsh",
        "colab": {
          "base_uri": "https://localhost:8080/"
        },
        "outputId": "438593f5-6c3c-4b4d-db3f-6b7cb6cf37cc"
      },
      "source": [
        "# RUN THIS CELL\n",
        "!pip install brian2\n",
        "from brian2 import *"
      ],
      "execution_count": null,
      "outputs": [
        {
          "output_type": "stream",
          "text": [
            "Collecting brian2\n",
            "\u001b[?25l  Downloading https://files.pythonhosted.org/packages/9a/c7/565012c479953d041d5e828938515d3c402d0c3f4942180f1c44cb0f472e/Brian2-2.4.2.tar.gz (1.2MB)\n",
            "\u001b[K     |████████████████████████████████| 1.2MB 9.2MB/s \n",
            "\u001b[?25hRequirement already satisfied: numpy>=1.15 in /usr/local/lib/python3.6/dist-packages (from brian2) (1.18.5)\n",
            "Requirement already satisfied: cython>=0.29 in /usr/local/lib/python3.6/dist-packages (from brian2) (0.29.21)\n",
            "Collecting sympy>=1.2\n",
            "\u001b[?25l  Downloading https://files.pythonhosted.org/packages/e0/1f/8cbbf698e853019ac3dc5d60ca8f6be4ace4542b2f05f7b62949617fc98e/sympy-1.6.2-py3-none-any.whl (5.8MB)\n",
            "\u001b[K     |████████████████████████████████| 5.8MB 28.7MB/s \n",
            "\u001b[?25hRequirement already satisfied: pyparsing in /usr/local/lib/python3.6/dist-packages (from brian2) (2.4.7)\n",
            "Requirement already satisfied: jinja2>=2.7 in /usr/local/lib/python3.6/dist-packages (from brian2) (2.11.2)\n",
            "Requirement already satisfied: setuptools>=24.2 in /usr/local/lib/python3.6/dist-packages (from brian2) (50.3.2)\n",
            "Requirement already satisfied: mpmath>=0.19 in /usr/local/lib/python3.6/dist-packages (from sympy>=1.2->brian2) (1.1.0)\n",
            "Requirement already satisfied: MarkupSafe>=0.23 in /usr/local/lib/python3.6/dist-packages (from jinja2>=2.7->brian2) (1.1.1)\n",
            "Building wheels for collected packages: brian2\n",
            "  Building wheel for brian2 (setup.py) ... \u001b[?25l\u001b[?25hdone\n",
            "  Created wheel for brian2: filename=Brian2-2.4.2-cp36-cp36m-linux_x86_64.whl size=1257550 sha256=b40c2c35c7e42a16f7eff028757caca6e008a32e1d1d9e0fdb832666fcaba6ec\n",
            "  Stored in directory: /root/.cache/pip/wheels/5d/4b/cf/ef50e71df5479d67f981cbb17b1d842381019d27ba144d57de\n",
            "Successfully built brian2\n",
            "Installing collected packages: sympy, brian2\n",
            "  Found existing installation: sympy 1.1.1\n",
            "    Uninstalling sympy-1.1.1:\n",
            "      Successfully uninstalled sympy-1.1.1\n",
            "Successfully installed brian2-2.4.2 sympy-1.6.2\n"
          ],
          "name": "stdout"
        }
      ]
    },
    {
      "cell_type": "markdown",
      "metadata": {
        "id": "frUl-79CBikP"
      },
      "source": [
        "Setup the simulation to use 1ms timesteps."
      ]
    },
    {
      "cell_type": "code",
      "metadata": {
        "id": "iRgOW8ZCDN-t"
      },
      "source": [
        "# Write your code here"
      ],
      "execution_count": null,
      "outputs": []
    },
    {
      "cell_type": "code",
      "metadata": {
        "id": "TVz8IHvGDxh1",
        "cellView": "form"
      },
      "source": [
        "#@title Double-click here for solution\n",
        "\n",
        "dt = 1. * ms\n",
        "defaultclock.dt = dt"
      ],
      "execution_count": null,
      "outputs": []
    },
    {
      "cell_type": "markdown",
      "metadata": {
        "id": "uAayhwPcLzcY"
      },
      "source": [
        "Create an input population of 1 source spiking at 0ms."
      ]
    },
    {
      "cell_type": "code",
      "metadata": {
        "id": "yHnzIbYLCRZR"
      },
      "source": [
        "# Write your code here"
      ],
      "execution_count": null,
      "outputs": []
    },
    {
      "cell_type": "code",
      "metadata": {
        "id": "WzPdDwYBL7qo",
        "cellView": "form"
      },
      "source": [
        "#@title Double-click here for solution\n",
        "\n",
        "pop_in = SpikeGeneratorGroup(1, times=[0] * ms, indices=[0])"
      ],
      "execution_count": null,
      "outputs": []
    },
    {
      "cell_type": "markdown",
      "metadata": {
        "id": "TgELCwF6L6_n"
      },
      "source": [
        "Create a LIF population with 100 neurons. Set both membrane and synapse time constants to 10ms, the refractory period to 5ms, the threshold to -50mV, the resting potential to -70mV and the reset equal to the resting value."
      ]
    },
    {
      "cell_type": "code",
      "metadata": {
        "id": "2M-1GgGFCOuY"
      },
      "source": [
        "# Write your code here"
      ],
      "execution_count": null,
      "outputs": []
    },
    {
      "cell_type": "code",
      "metadata": {
        "id": "S6ujwufmInqY",
        "cellView": "form"
      },
      "source": [
        "#@title Double-click here for solution\n",
        "\n",
        "tau_m = 10 * ms\n",
        "tau_s = 10 * ms\n",
        "tau_ref = 5 * ms\n",
        "u_th = -50 * mV\n",
        "u_rest = -70 * mV\n",
        "u_reset = -70 * mV\n",
        "model = '''\n",
        "du/dt = - (u - u_rest - u_s) / tau_m   : volt     (unless refractory)\n",
        "du_s/dt = - u_s / tau_s                : volt\n",
        "'''\n",
        "pop_out = NeuronGroup(100, model=model, threshold='u >= u_th', reset='u = u_reset', refractory=tau_ref, method='euler')\n",
        "pop_out.u = u_rest"
      ],
      "execution_count": null,
      "outputs": []
    },
    {
      "cell_type": "markdown",
      "metadata": {
        "id": "1nC-qs-BL9wQ"
      },
      "source": [
        "Connect the input population to the first neuron of the Synfire population, with a weight of 70mV and a delay of 1ms."
      ]
    },
    {
      "cell_type": "code",
      "metadata": {
        "id": "JbKOHxAkCKte"
      },
      "source": [
        "# Write your code here"
      ],
      "execution_count": null,
      "outputs": []
    },
    {
      "cell_type": "code",
      "metadata": {
        "id": "s2AzbnSYL-Bw",
        "cellView": "form"
      },
      "source": [
        "#@title Double-click here for solution\n",
        "\n",
        "syn_in_out = Synapses(pop_in, pop_out, model=\"\"\"w : volt\"\"\", on_pre='u_s += w',  delay=1. * ms)\n",
        "syn_in_out.connect(i=0, j=0)\n",
        "syn_in_out.w = 70 * mV"
      ],
      "execution_count": null,
      "outputs": []
    },
    {
      "cell_type": "markdown",
      "metadata": {
        "id": "SnJA6NY0MHHO"
      },
      "source": [
        "Connect each neuron in the Synfire population to the next neuron and the last with the first (hint: use conditions in the \"*connect*\" method of the synapse object to establish the connectivity and connect the last with the first through a separate call to the same method). Use the given function to visualise the connectity (it takes the synaptic object as argument). Set a weight of 60mV and a delay of 5ms."
      ]
    },
    {
      "cell_type": "code",
      "metadata": {
        "id": "AOGph5kzB_Nn"
      },
      "source": [
        "def visualise_connectivity(S):\n",
        "    Ns = len(S.source)\n",
        "    Nt = len(S.target)\n",
        "    figure(figsize=(12, 6))\n",
        "    subplot(121)\n",
        "    plot(np.zeros(Ns), np.arange(Ns), 'ok', ms=8)\n",
        "    plot(np.ones(Nt), np.arange(Nt), 'ok', ms=8)\n",
        "    for i, j in zip(S.i, S.j):\n",
        "        plot([0, 1], [i, j], '-k')\n",
        "    xticks([0, 1], ['Source', 'Target'])\n",
        "    ylabel('Neuron index')\n",
        "    xlim(-0.1, 1.1)\n",
        "    ylim(-1, max(Ns, Nt))\n",
        "    subplot(122)\n",
        "    plot(S.i, S.j, 'ok')\n",
        "    xlim(-1, Ns)\n",
        "    ylim(-1, Nt)\n",
        "    xlabel('Source neuron index')\n",
        "    ylabel('Target neuron index')\n",
        "    show()\n",
        "\n",
        "# Write your code here"
      ],
      "execution_count": null,
      "outputs": []
    },
    {
      "cell_type": "code",
      "metadata": {
        "id": "yM7FoDKPMGV0",
        "cellView": "form",
        "colab": {
          "base_uri": "https://localhost:8080/",
          "height": 392
        },
        "outputId": "1c6ecfe5-2481-4e5e-d277-3c10b01f2df8"
      },
      "source": [
        "#@title Double-click here for solution\n",
        "\n",
        "syn_out_out = Synapses(pop_out, pop_out, model=\"\"\"w : volt\"\"\", on_pre='u_s += w', delay=5. * ms)\n",
        "syn_out_out.connect(condition='(j-i)<=1 and (j-i)>0')\n",
        "syn_out_out.connect(i=pop_out.N - 1, j=0)\n",
        "syn_out_out.w = 60 * mV\n",
        "visualise_connectivity(syn_out_out)\n",
        "# print(syn_out_out.i)\n",
        "# print(syn_out_out.j)"
      ],
      "execution_count": null,
      "outputs": [
        {
          "output_type": "display_data",
          "data": {
            "image/png": "[encoded data removed]",
            "text/plain": [
              "<Figure size 864x432 with 2 Axes>"
            ]
          },
          "metadata": {
            "tags": [],
            "needs_background": "light"
          }
        }
      ]
    },
    {
      "cell_type": "markdown",
      "metadata": {
        "id": "YilULnEFMOb2"
      },
      "source": [
        "Record the spikes produced from the Synfire populations."
      ]
    },
    {
      "cell_type": "code",
      "metadata": {
        "id": "hBWaavHWCnAd"
      },
      "source": [
        "# Write your code here"
      ],
      "execution_count": null,
      "outputs": []
    },
    {
      "cell_type": "code",
      "metadata": {
        "id": "JWdPRH8CMN-g",
        "cellView": "form"
      },
      "source": [
        "#@title Double-click here for solution\n",
        "\n",
        "spikes_out = SpikeMonitor(pop_out)"
      ],
      "execution_count": null,
      "outputs": []
    },
    {
      "cell_type": "markdown",
      "metadata": {
        "id": "GzP5VRz8MRdr"
      },
      "source": [
        "Build the network adding all the elements."
      ]
    },
    {
      "cell_type": "code",
      "metadata": {
        "id": "25ZXvslSCmj8"
      },
      "source": [
        "# Write your code here"
      ],
      "execution_count": null,
      "outputs": []
    },
    {
      "cell_type": "code",
      "metadata": {
        "id": "FdmpqCbXTs5e",
        "cellView": "form"
      },
      "source": [
        "#@title Double-click here for solution\n",
        "\n",
        "net = Network(pop_in, pop_out, syn_in_out, syn_out_out, spikes_out)"
      ],
      "execution_count": null,
      "outputs": []
    },
    {
      "cell_type": "markdown",
      "metadata": {
        "id": "MbG-HEeeTtC5"
      },
      "source": [
        "Run the simulation for 2 seconds"
      ]
    },
    {
      "cell_type": "code",
      "metadata": {
        "id": "rRHdknBQCl4H"
      },
      "source": [
        "# Write your code here"
      ],
      "execution_count": null,
      "outputs": []
    },
    {
      "cell_type": "code",
      "metadata": {
        "id": "wJ4_T9SbMRvT",
        "colab": {
          "base_uri": "https://localhost:8080/"
        },
        "cellView": "form",
        "outputId": "6d6b4b11-a21d-4773-ab61-e0ca57118b7b"
      },
      "source": [
        "#@title Double-click here for solution\n",
        "\n",
        "T = 2 * second\n",
        "net.run(T, report='stdout')"
      ],
      "execution_count": null,
      "outputs": [
        {
          "output_type": "stream",
          "text": [
            "Starting simulation at t=0. s for a duration of 2. s\n",
            "2. s (100%) simulated in < 1s\n"
          ],
          "name": "stdout"
        }
      ]
    },
    {
      "cell_type": "markdown",
      "metadata": {
        "id": "bLtjbbbDMWnm"
      },
      "source": [
        "Retrieve the spikes from the Synfire population."
      ]
    },
    {
      "cell_type": "code",
      "metadata": {
        "id": "Dr86TC0FCxSm"
      },
      "source": [
        "# Write your code here"
      ],
      "execution_count": null,
      "outputs": []
    },
    {
      "cell_type": "code",
      "metadata": {
        "id": "EYRIYt-RMW5o",
        "cellView": "form"
      },
      "source": [
        "#@title Double-click here for solution\n",
        "\n",
        "spike_times_out = spikes_out.t / ms\n",
        "spike_id_out = spikes_out.i"
      ],
      "execution_count": null,
      "outputs": []
    },
    {
      "cell_type": "markdown",
      "metadata": {
        "id": "loXxTCfhMdRo"
      },
      "source": [
        "Plot the resulting spiking activity of the Synfire population (hint: use the \"*scatter*\" function)."
      ]
    },
    {
      "cell_type": "code",
      "metadata": {
        "id": "OGPQB9C-DBNz"
      },
      "source": [
        "# Write your code here"
      ],
      "execution_count": null,
      "outputs": []
    },
    {
      "cell_type": "code",
      "metadata": {
        "id": "PkmBrHT2KT8q",
        "colab": {
          "base_uri": "https://localhost:8080/",
          "height": 409
        },
        "cellView": "form",
        "outputId": "ffd51ae0-21fd-4828-a9b8-77173e7edcaf"
      },
      "source": [
        "#@title Double-click here for solution\n",
        "\n",
        "figure(figsize=(8, 6))\n",
        "scatter(spike_times_out, spike_id_out)\n",
        "xlabel('time [ms]', fontsize=13)\n",
        "ylabel('neuron ID', fontsize=13)\n",
        "title('Rasterplot of the Output Activity', fontsize=16)\n",
        "show()"
      ],
      "execution_count": null,
      "outputs": [
        {
          "output_type": "display_data",
          "data": {
            "image/png": "[encoded data removed]",
            "text/plain": [
              "<Figure size 576x432 with 1 Axes>"
            ]
          },
          "metadata": {
            "tags": [],
            "needs_background": "light"
          }
        }
      ]
    },
    {
      "cell_type": "markdown",
      "metadata": {
        "id": "D2nokUAzMeHj"
      },
      "source": [
        "\n",
        "---\n",
        "\n",
        "#### **Extension**\n",
        "\n",
        "Update the network above so that the delays in the connections internal to the synfire population are generated from a uniform random distribution with values between 1.0 and 15.0 (use the function \"*np.random.randint*\"). Update the run time to be 5 seconds."
      ]
    },
    {
      "cell_type": "code",
      "metadata": {
        "id": "D_IOh0SquoLj"
      },
      "source": [
        "# Write your code here"
      ],
      "execution_count": null,
      "outputs": []
    },
    {
      "cell_type": "code",
      "metadata": {
        "id": "4m2NpqVbp3vy",
        "cellView": "form"
      },
      "source": [
        "#@title Double-click here for solution\n",
        "\n",
        "# ---------------- 1. Establish the time-step of the simulation ----------------\n",
        "dt = 1. * ms\n",
        "defaultclock.dt = dt\n",
        "\n",
        "# ---------------------- 2. Create the neural populations ----------------------\n",
        "pop_in = SpikeGeneratorGroup(1, times=[0] * ms, indices=[0])\n",
        "tau_m = 10 * ms\n",
        "tau_s = 10 * ms\n",
        "tau_ref = 5 * ms\n",
        "u_th = -50 * mV\n",
        "u_rest = -70 * mV\n",
        "u_reset = -70 * mV\n",
        "model = '''\n",
        "du/dt = - (u - u_rest - u_s) / tau_m   : volt     (unless refractory)\n",
        "du_s/dt = - u_s / tau_s                : volt\n",
        "'''\n",
        "pop_out = NeuronGroup(100, model=model, threshold='u >= u_th', reset='u = u_reset', refractory=tau_ref, method='euler')\n",
        "pop_out.u = u_rest\n",
        "\n",
        "# --------------------------- 3. Create the synapses ---------------------------\n",
        "syn_in_out = Synapses(pop_in, pop_out, model=\"\"\"w : volt\"\"\", on_pre='u_s += w',  delay=1. * ms)\n",
        "syn_in_out.connect(i=0, j=0)\n",
        "syn_in_out.w = 70 * mV\n",
        "# Change the delays in connections from the Synfire chain to itself\n",
        "syn_out_out = Synapses(pop_out, pop_out, model=\"\"\"w : volt\"\"\", on_pre='u_s += w')\n",
        "syn_out_out.connect(condition='(j-i)<=1 and (j-i)>0')\n",
        "syn_out_out.connect(i=pop_out.N - 1, j=0)\n",
        "syn_out_out.w = 60 * mV\n",
        "syn_out_out.delay = np.random.randint(low=1, high=15, size=len(syn_out_out)) * ms\n",
        "\n",
        "# -------------------------- 4. Setup data monitoring --------------------------\n",
        "spikes_out = SpikeMonitor(pop_out)\n",
        "\n",
        "# -------------------- 5. Build and feed the network object --------------------\n",
        "net = Network(pop_in, pop_out, syn_in_out, syn_out_out, spikes_out)\n",
        "\n",
        "# --------------------------- 6. Run the simulation ----------------------------\n",
        "T = 5 * second  # set the duration of the simulation to be of 5 seconds\n",
        "net.run(T, report='stdout')\n",
        "\n",
        "# ------------------ 7. Retrieve and plot the recorded data --------------------\n",
        "spike_times_out = spikes_out.t / ms\n",
        "spike_id_out = spikes_out.i\n",
        "figure(figsize=(8, 6))\n",
        "scatter(spike_times_out, spike_id_out)\n",
        "xlabel('time [ms]', fontsize=13)\n",
        "ylabel('neuron ID', fontsize=13)\n",
        "title('Rasterplot of the Output Activity', fontsize=16)\n",
        "show()"
      ],
      "execution_count": null,
      "outputs": []
    }
  ]
}
