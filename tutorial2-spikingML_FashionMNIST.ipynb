{
  "cells": [
    {
      "cell_type": "markdown",
      "metadata": {
        "id": "vjvK99ZYxEu2"
      },
      "source": [
        "# **Training a spiking neural network on a simple vision dataset**\n",
        "\n",
        "In Tutorial 1 we have seen how to train a simple multi-layer spiking neural network (SNN) on a small synthetic dataset using both a true gradient and a surrogate gradient. In this tutorial, we will train such network using the surrogate gradient for the classification of a slightly larger dataset. Concretely, we will use the [Fashion MNIST dataset](https://github.com/zalandoresearch/fashion-mnist)."
      ]
    },
    {
      "cell_type": "code",
      "execution_count": 1,
      "metadata": {
        "id": "x6dhDtOUxEu5"
      },
      "outputs": [],
      "source": [
        "import os\n",
        "import sys\n",
        "import time\n",
        "import numpy as np\n",
        "import matplotlib.pyplot as plt\n",
        "from matplotlib.gridspec import GridSpec\n",
        "import seaborn as sns\n",
        "import torch\n",
        "import torch.nn as nn\n",
        "import torchvision\n",
        "from tqdm import tqdm"
      ]
    },
    {
      "cell_type": "markdown",
      "metadata": {
        "id": "3FquejpCxEu6"
      },
      "source": [
        "Use GPU if possible!"
      ]
    },
    {
      "cell_type": "code",
      "execution_count": 2,
      "metadata": {
        "colab": {
          "base_uri": "https://localhost:8080/"
        },
        "id": "UdSTU66KxEu6",
        "outputId": "b732cfc5-f061-4bc3-c1ea-7de78f1e6639"
      },
      "outputs": [
        {
          "output_type": "stream",
          "name": "stdout",
          "text": [
            "\n",
            "Running on GPU Tesla T4 (compute capability 7.5) number 1 of 1\n",
            "Total memory:     15109.8 MB\n",
            "Allocated memory: 0.0 MB\n",
            "Cached memory:    0.0 MB\n",
            "\n"
          ]
        }
      ],
      "source": [
        "def get_torch_device(verbose: bool = True):\n",
        "  if torch.cuda.is_available():  # Print additional info when using cuda\n",
        "      device = torch.device('cuda:0')\n",
        "      current_dev = torch.cuda.current_device()\n",
        "      cap_dev = torch.cuda.get_device_capability()\n",
        "      if verbose:\n",
        "        print(f'\\nRunning on GPU {torch.cuda.get_device_name(device)} '\n",
        "              f'(compute capability {cap_dev[0]}.{cap_dev[1]}) '\n",
        "              f'number {current_dev + 1} of {torch.cuda.device_count()}\\n'\n",
        "              f'Total memory:     {round(torch.cuda.get_device_properties(current_dev).total_memory / 1024 ** 2, 1)} MB\\n'\n",
        "              f'Allocated memory: {round(torch.cuda.memory_allocated(current_dev) / 1024 ** 2, 1)} MB\\n'\n",
        "              f'Cached memory:    {round(torch.cuda.memory_reserved(current_dev) / 1024 ** 2, 1)} MB\\n')\n",
        "  else:\n",
        "      device = torch.device('cpu')\n",
        "      if verbose:\n",
        "        print('\\nRunning on CPU.\\n')\n",
        "  return device\n",
        "\n",
        "dtype = torch.float\n",
        "device = get_torch_device()"
      ]
    },
    {
      "cell_type": "markdown",
      "metadata": {
        "id": "ozd4GUKpxEu7"
      },
      "source": [
        "Set a random seed for all stochastic computations."
      ]
    },
    {
      "cell_type": "code",
      "execution_count": 3,
      "metadata": {
        "colab": {
          "base_uri": "https://localhost:8080/"
        },
        "id": "JB-5pMKJxEu7",
        "outputId": "c9288d8e-f799-410f-da03-163c89563c9a"
      },
      "outputs": [
        {
          "output_type": "execute_result",
          "data": {
            "text/plain": [
              "<torch._C.Generator at 0x7fefa3b136f0>"
            ]
          },
          "metadata": {},
          "execution_count": 3
        }
      ],
      "source": [
        "seed = 12\n",
        "np.random.seed(seed)\n",
        "torch.manual_seed(seed)"
      ]
    },
    {
      "cell_type": "markdown",
      "metadata": {
        "id": "7hMtZCScxEu7"
      },
      "source": [
        "## Define all main parameters"
      ]
    },
    {
      "cell_type": "markdown",
      "metadata": {
        "id": "Kk57HHE8xEu8"
      },
      "source": [
        "**Initialize network parameters**: number of neurons in each layer.\n",
        "\n",
        "We will use a simple feedforward multilayer network model with a single hidden layer, as in the previous tutorial.\n",
        "\n",
        "Since the images in the Fashion MNIST dataset have shape 28x28 and 10 possible classes, we set these values for the number of neurons in the input and readout layers. In the hidden layer, we will use 100 neurons, but such value is somehow arbitrary."
      ]
    },
    {
      "cell_type": "code",
      "execution_count": 4,
      "metadata": {
        "id": "h-tM9F51xEu9"
      },
      "outputs": [],
      "source": [
        "nb_pixels = 28\n",
        "nb_inputs = nb_pixels * nb_pixels\n",
        "nb_hidden = 100\n",
        "nb_outputs = 10"
      ]
    },
    {
      "cell_type": "markdown",
      "metadata": {
        "id": "jRadLaR_xEu9"
      },
      "source": [
        "Set a weight scale for weights initialization (if you with, otherwise leave it to None). Be carefull if you change this value: make sure that the given weight scale will give us some spikes to begin with."
      ]
    },
    {
      "cell_type": "code",
      "execution_count": 5,
      "metadata": {
        "id": "yMAXEMsUxEu9"
      },
      "outputs": [],
      "source": [
        "weight_scale = None"
      ]
    },
    {
      "cell_type": "markdown",
      "metadata": {
        "id": "rSIH7nRJxEu-"
      },
      "source": [
        "**Initialize simulation parameters**: time of the simulation.\n",
        "\n",
        "As we have seen, we are technically simulating an RNN. Thus we have to simulate our neurons for a certain number of timesteps. We will use 1ms time step, and we want to simulate our network for say 100 timesteps."
      ]
    },
    {
      "cell_type": "code",
      "execution_count": 6,
      "metadata": {
        "id": "EF3JhA89xEu-"
      },
      "outputs": [],
      "source": [
        "time_step = 1e-3\n",
        "nb_steps = 100"
      ]
    },
    {
      "cell_type": "markdown",
      "metadata": {
        "id": "4kPxS7PmxEu-"
      },
      "source": [
        "**Initialize training parameters**: number of epochs, learning rate and batch size."
      ]
    },
    {
      "cell_type": "code",
      "execution_count": 7,
      "metadata": {
        "id": "SXirRRtHxEu-"
      },
      "outputs": [],
      "source": [
        "nb_epochs = 10\n",
        "lr = 2e-4"
      ]
    },
    {
      "cell_type": "markdown",
      "metadata": {
        "id": "pFplu7E1xEu-"
      },
      "source": [
        "To take advantage of parallelism, we will set up our code to work on batches of data like this is usually done for neural networks that are trained in a supervised manner.\n",
        "To that end, we specify a batch size here."
      ]
    },
    {
      "cell_type": "code",
      "execution_count": 8,
      "metadata": {
        "id": "8Urt1HlIxEu-"
      },
      "outputs": [],
      "source": [
        "batch_size = 256"
      ]
    },
    {
      "cell_type": "markdown",
      "metadata": {
        "id": "vzeYQq92xEu_"
      },
      "source": [
        "**Initialize LIF-neuron parameters**: synaptic and membrane time constants."
      ]
    },
    {
      "cell_type": "code",
      "execution_count": 9,
      "metadata": {
        "id": "OT_xvmXCxEu_"
      },
      "outputs": [],
      "source": [
        "tau_mem = 10e-3\n",
        "tau_syn = 5e-3"
      ]
    },
    {
      "cell_type": "markdown",
      "metadata": {
        "id": "CXMKvRSuxEu_"
      },
      "source": [
        "With these basic design choices made, we can now start building the actual network. Here we will be using PyTorch, but you will be able to reproduce these results in most common machine learning libraries."
      ]
    },
    {
      "cell_type": "markdown",
      "metadata": {
        "id": "56PKuWmDxEu_"
      },
      "source": [
        "## Load the Fashion MNIST dataset"
      ]
    },
    {
      "cell_type": "code",
      "execution_count": 10,
      "metadata": {
        "colab": {
          "base_uri": "https://localhost:8080/",
          "height": 451,
          "referenced_widgets": [
            "27ab1415f2a448d3a7e08f1c16f4a972",
            "0ed08b6dc16c4cb4982da16bd7048460",
            "6656f0bded0043708fc386ef7781e7eb",
            "28f2eecd73e04e5ead5b166f7b3291de",
            "019e54a03eb142f58787b9b3c9c61f32",
            "64bb6edbba5d4c49a2571328092aa39a",
            "7fa167264baa415eb81def76ae2e454e",
            "99a7eecc3fb34d3798c0d1b6f1ec7f72",
            "690ab3bd207345ffa529feb96fa4c38e",
            "61fd65ab01014d36b03a423cb267e0be",
            "9714a55104eb4d5d9f08dd1097a5bbdb",
            "0e9809be30714774a1345439e0a8e352",
            "82760fa677cb4756af644d114fe02431",
            "d375fd1e6e234ade9979608a7c0910b1",
            "7fe27a31e3d042679350d0ee280ce24d",
            "8d7993fa4af64a759d74fd8d2b9dc441",
            "02e384a9d3e7486cbbdc05fdf84bb080",
            "2863df5261b24006b43244492fb99054",
            "f1455b8bd24c41a39ad24de8b9033acf",
            "7d30f99d77e8447fbb8429d11424543c",
            "1be68436f3354515a3186277dc5efcda",
            "fcbea7972cab48ccb99db3af8f956863",
            "389ab7452db441839ef18bc2b6c458d0",
            "225dd9cbd919466c940ef5ab6a83af5d",
            "c8912e6caff54df1b0bf93e0b326b5cd",
            "262fa4957176479e876ebae0b28406cb",
            "9ec776fe55bb43dba69742da80983060",
            "ef73e5c1a3864c44a65663878b9d2170",
            "a3cf0ec4174a480fa2c538c1e347c4eb",
            "6074d5cd077042ce8ae2d0d880fb3e63",
            "5d686478f37445d2a349fb28a9e29b16",
            "6ba784d9fc47448aa4bc22186cfdd41c",
            "d0c9e8c26d874e88a3670f3f304b6ed6",
            "2aa0787df2f0473eaabc3d6652b007df",
            "c5378b39b76b4b6fafd3227a982f2840",
            "88801251da904282ba6203f9e3105c38",
            "7949871f6dcc41d08a2539cee0b0da6f",
            "3973521bbbbc4ee2992bba9db9c3b0c1",
            "dc238c67a3c94796b1627b633ec75887",
            "b627c8e6681e4970bfded49bdf43b4e4",
            "e5c1e9c0addf4fc2a7206d8f5b382be9",
            "ec206a99b7d14b18b25a2090779659de",
            "010096b0bd1d4530a636a292a2d09fb2",
            "59fde1df650043a0a9b479b9890f70b7"
          ]
        },
        "id": "tczObhmPxEu_",
        "outputId": "8a47c37a-445f-4827-a7af-e7b4c94c6a06"
      },
      "outputs": [
        {
          "output_type": "stream",
          "name": "stdout",
          "text": [
            "Downloading http://fashion-mnist.s3-website.eu-central-1.amazonaws.com/train-images-idx3-ubyte.gz\n",
            "Downloading http://fashion-mnist.s3-website.eu-central-1.amazonaws.com/train-images-idx3-ubyte.gz to ../data/fashion-mnist/FashionMNIST/raw/train-images-idx3-ubyte.gz\n"
          ]
        },
        {
          "output_type": "display_data",
          "data": {
            "text/plain": [
              "  0%|          | 0/26421880 [00:00<?, ?it/s]"
            ],
            "application/vnd.jupyter.widget-view+json": {
              "version_major": 2,
              "version_minor": 0,
              "model_id": "27ab1415f2a448d3a7e08f1c16f4a972"
            }
          },
          "metadata": {}
        },
        {
          "output_type": "stream",
          "name": "stdout",
          "text": [
            "Extracting ../data/fashion-mnist/FashionMNIST/raw/train-images-idx3-ubyte.gz to ../data/fashion-mnist/FashionMNIST/raw\n",
            "\n",
            "Downloading http://fashion-mnist.s3-website.eu-central-1.amazonaws.com/train-labels-idx1-ubyte.gz\n",
            "Downloading http://fashion-mnist.s3-website.eu-central-1.amazonaws.com/train-labels-idx1-ubyte.gz to ../data/fashion-mnist/FashionMNIST/raw/train-labels-idx1-ubyte.gz\n"
          ]
        },
        {
          "output_type": "display_data",
          "data": {
            "text/plain": [
              "  0%|          | 0/29515 [00:00<?, ?it/s]"
            ],
            "application/vnd.jupyter.widget-view+json": {
              "version_major": 2,
              "version_minor": 0,
              "model_id": "0e9809be30714774a1345439e0a8e352"
            }
          },
          "metadata": {}
        },
        {
          "output_type": "stream",
          "name": "stdout",
          "text": [
            "Extracting ../data/fashion-mnist/FashionMNIST/raw/train-labels-idx1-ubyte.gz to ../data/fashion-mnist/FashionMNIST/raw\n",
            "\n",
            "Downloading http://fashion-mnist.s3-website.eu-central-1.amazonaws.com/t10k-images-idx3-ubyte.gz\n",
            "Downloading http://fashion-mnist.s3-website.eu-central-1.amazonaws.com/t10k-images-idx3-ubyte.gz to ../data/fashion-mnist/FashionMNIST/raw/t10k-images-idx3-ubyte.gz\n"
          ]
        },
        {
          "output_type": "display_data",
          "data": {
            "text/plain": [
              "  0%|          | 0/4422102 [00:00<?, ?it/s]"
            ],
            "application/vnd.jupyter.widget-view+json": {
              "version_major": 2,
              "version_minor": 0,
              "model_id": "389ab7452db441839ef18bc2b6c458d0"
            }
          },
          "metadata": {}
        },
        {
          "output_type": "stream",
          "name": "stdout",
          "text": [
            "Extracting ../data/fashion-mnist/FashionMNIST/raw/t10k-images-idx3-ubyte.gz to ../data/fashion-mnist/FashionMNIST/raw\n",
            "\n",
            "Downloading http://fashion-mnist.s3-website.eu-central-1.amazonaws.com/t10k-labels-idx1-ubyte.gz\n",
            "Downloading http://fashion-mnist.s3-website.eu-central-1.amazonaws.com/t10k-labels-idx1-ubyte.gz to ../data/fashion-mnist/FashionMNIST/raw/t10k-labels-idx1-ubyte.gz\n"
          ]
        },
        {
          "output_type": "display_data",
          "data": {
            "text/plain": [
              "  0%|          | 0/5148 [00:00<?, ?it/s]"
            ],
            "application/vnd.jupyter.widget-view+json": {
              "version_major": 2,
              "version_minor": 0,
              "model_id": "2aa0787df2f0473eaabc3d6652b007df"
            }
          },
          "metadata": {}
        },
        {
          "output_type": "stream",
          "name": "stdout",
          "text": [
            "Extracting ../data/fashion-mnist/FashionMNIST/raw/t10k-labels-idx1-ubyte.gz to ../data/fashion-mnist/FashionMNIST/raw\n",
            "\n"
          ]
        }
      ],
      "source": [
        "root = os.path.expanduser(\"../data/fashion-mnist\")\n",
        "train_dataset = torchvision.datasets.FashionMNIST(root, train=True,\n",
        "                                                  download=True)\n",
        "test_dataset = torchvision.datasets.FashionMNIST(root, train=False,\n",
        "                                                 download=True)"
      ]
    },
    {
      "cell_type": "markdown",
      "metadata": {
        "id": "Hpt7SsLpxEu_"
      },
      "source": [
        "Standardize data."
      ]
    },
    {
      "cell_type": "code",
      "execution_count": 11,
      "metadata": {
        "colab": {
          "base_uri": "https://localhost:8080/"
        },
        "id": "tI2enoo1xEvA",
        "outputId": "57d095f8-c90b-4d02-dbec-e36d5a30633a"
      },
      "outputs": [
        {
          "output_type": "stream",
          "name": "stderr",
          "text": [
            "/usr/local/lib/python3.7/dist-packages/ipykernel_launcher.py:1: DeprecationWarning: `np.float` is a deprecated alias for the builtin `float`. To silence this warning, use `float` by itself. Doing this will not modify any behavior and is safe. If you specifically wanted the numpy scalar type, use `np.float64` here.\n",
            "Deprecated in NumPy 1.20; for more details and guidance: https://numpy.org/devdocs/release/1.20.0-notes.html#deprecations\n",
            "  \"\"\"Entry point for launching an IPython kernel.\n",
            "/usr/local/lib/python3.7/dist-packages/ipykernel_launcher.py:5: DeprecationWarning: `np.int` is a deprecated alias for the builtin `int`. To silence this warning, use `int` by itself. Doing this will not modify any behavior and is safe. When replacing `np.int`, you may wish to use e.g. `np.int64` or `np.int32` to specify the precision. If you wish to review your current use, check the release note link for additional information.\n",
            "Deprecated in NumPy 1.20; for more details and guidance: https://numpy.org/devdocs/release/1.20.0-notes.html#deprecations\n",
            "  \"\"\"\n",
            "/usr/local/lib/python3.7/dist-packages/ipykernel_launcher.py:8: DeprecationWarning: `np.float` is a deprecated alias for the builtin `float`. To silence this warning, use `float` by itself. Doing this will not modify any behavior and is safe. If you specifically wanted the numpy scalar type, use `np.float64` here.\n",
            "Deprecated in NumPy 1.20; for more details and guidance: https://numpy.org/devdocs/release/1.20.0-notes.html#deprecations\n",
            "  \n",
            "/usr/local/lib/python3.7/dist-packages/ipykernel_launcher.py:12: DeprecationWarning: `np.int` is a deprecated alias for the builtin `int`. To silence this warning, use `int` by itself. Doing this will not modify any behavior and is safe. When replacing `np.int`, you may wish to use e.g. `np.int64` or `np.int32` to specify the precision. If you wish to review your current use, check the release note link for additional information.\n",
            "Deprecated in NumPy 1.20; for more details and guidance: https://numpy.org/devdocs/release/1.20.0-notes.html#deprecations\n",
            "  if sys.path[0] == '':\n"
          ]
        }
      ],
      "source": [
        "x_train = np.array(train_dataset.data, dtype=np.float)\n",
        "x_train = x_train.reshape(x_train.shape[0], -1) / 255\n",
        "# x_train = torch.tensor(train_dataset.data, device=device, dtype=dtype)\n",
        "\n",
        "y_train = np.array(train_dataset.targets, dtype=np.int)\n",
        "# y_train = torch.tensor(train_dataset.targets, device=device, dtype=dtype)\n",
        "\n",
        "x_test = np.array(test_dataset.data, dtype=np.float)\n",
        "x_test = x_test.reshape(x_test.shape[0], -1) / 255\n",
        "# x_test = torch.tensor(test_dataset.data, device=device, dtype=dtype)\n",
        "\n",
        "y_test = np.array(test_dataset.targets, dtype=np.int)\n",
        "# y_test  = torch.tensor(test_dataset.targets, device=device, dtype=dtype)"
      ]
    },
    {
      "cell_type": "markdown",
      "metadata": {
        "id": "Liay3NwbxEvA"
      },
      "source": [
        "Plot one of the raw data points as an example."
      ]
    },
    {
      "cell_type": "code",
      "execution_count": 12,
      "metadata": {
        "colab": {
          "base_uri": "https://localhost:8080/",
          "height": 194
        },
        "id": "uuJw8zHkxEvA",
        "outputId": "0338ccd8-dff4-430f-9d41-dd763b59ed88"
      },
      "outputs": [
        {
          "output_type": "display_data",
          "data": {
            "text/plain": [
              "<Figure size 216x216 with 1 Axes>"
            ],
            "image/png": "[encoded data removed]"
          },
          "metadata": {
            "needs_background": "light"
          }
        }
      ],
      "source": [
        "data_id = 1\n",
        "plt.figure(figsize=(3, 3))\n",
        "plt.imshow(x_train[data_id].reshape(nb_pixels, nb_pixels), cmap=plt.cm.gray_r)\n",
        "plt.axis(\"off\")\n",
        "plt.show()"
      ]
    },
    {
      "cell_type": "markdown",
      "metadata": {
        "id": "aRERFUhbxEvA"
      },
      "source": [
        "## Convert images to Spiking data"
      ]
    },
    {
      "cell_type": "markdown",
      "metadata": {
        "id": "3IaAJ3_YxEvA"
      },
      "source": [
        "Since we are working with spiking neural networks, we ideally want to use a temporal code to make use of spike timing.\n",
        "To that end, we will use a spike latency code to feed spikes to our network."
      ]
    },
    {
      "cell_type": "code",
      "execution_count": 13,
      "metadata": {
        "id": "kQSrk9kfxEvA"
      },
      "outputs": [],
      "source": [
        "def current2firing_time(x, tau=20., thr=0.2, tmax=1.0, epsilon=1e-7):\n",
        "    \"\"\" Computes first firing time latency for a current input x assuming the charge time of a current based LIF neuron.\n",
        "\n",
        "    Args:\n",
        "    x -- The \"current\" values\n",
        "\n",
        "    Keyword args:\n",
        "    tau -- The membrane time constant of the LIF neuron to be charged\n",
        "    thr -- The firing threshold value\n",
        "    tmax -- The maximum time returned\n",
        "    epsilon -- A generic (small) epsilon > 0\n",
        "\n",
        "    Returns:\n",
        "    Time to first spike for each \"current\" x\n",
        "    \"\"\"\n",
        "    idx = x < thr\n",
        "    x = np.clip(x, thr + epsilon, 1e9)\n",
        "    T = tau * np.log(x / (x - thr))\n",
        "    T[idx] = tmax\n",
        "    return T"
      ]
    },
    {
      "cell_type": "markdown",
      "metadata": {
        "id": "TK44Uee9xEvA"
      },
      "source": [
        "## Setup of the spiking network model"
      ]
    },
    {
      "cell_type": "markdown",
      "metadata": {
        "id": "l9wuJ2WUxEvA"
      },
      "source": [
        "#### The spiking nonlinearity\n",
        "\n",
        "In order to compute the spikes in the SNN we must first define its spiking nonlinearity function. Here we will use a Heaviside step function (in the forward pass) but with a different \"surrogate\" gradient (for the backward pass)."
      ]
    },
    {
      "cell_type": "code",
      "execution_count": 14,
      "metadata": {
        "id": "io8-Yp3CxEvA"
      },
      "outputs": [],
      "source": [
        "class SurrGradSpike(torch.autograd.Function):\n",
        "    \"\"\"\n",
        "    Here we implement our spiking nonlinearity which also implements\n",
        "    the surrogate gradient. By subclassing torch.autograd.Function,\n",
        "    we will be able to use all of PyTorch's autograd functionality.\n",
        "    Here we use the normalized negative part of a fast sigmoid\n",
        "    as this was done in Zenke & Ganguli (2018).\n",
        "    \"\"\"\n",
        "\n",
        "    scale = 100.0  # controls steepness of surrogate gradient\n",
        "\n",
        "    @staticmethod\n",
        "    def forward(ctx, input):\n",
        "        \"\"\"\n",
        "        In the forward pass we compute a step function of the input Tensor\n",
        "        and return it. ctx is a context object that we use to stash information which\n",
        "        we need to later backpropagate our error signals. To achieve this we use the\n",
        "        ctx.save_for_backward method.\n",
        "        \"\"\"\n",
        "        ctx.save_for_backward(input)\n",
        "        out = torch.zeros_like(input)\n",
        "        out[input > 0] = 1.0\n",
        "        return out\n",
        "\n",
        "    @staticmethod\n",
        "    def backward(ctx, grad_output):\n",
        "        \"\"\"\n",
        "        In the backward pass we receive a Tensor we need to compute the\n",
        "        surrogate gradient of the loss with respect to the input.\n",
        "        Here we use the normalized negative part of a fast sigmoid\n",
        "        as this was done in Zenke & Ganguli (2018).\n",
        "        \"\"\"\n",
        "        input, = ctx.saved_tensors\n",
        "        grad_input = grad_output.clone()\n",
        "        grad = grad_input / (SurrGradSpike.scale * torch.abs(input) + 1.0) ** 2\n",
        "        return grad"
      ]
    },
    {
      "cell_type": "markdown",
      "metadata": {
        "id": "3-_2-dL1xEvB"
      },
      "source": [
        "#### The whole network\n",
        "\n",
        "Now is the time to build the infrastructure for simulating and training our spiking neural network (in discrete time). The SNN we use is made of an input layer (the data), a hidden layer and a readout layer. We will only use feedforward connections, but recurrence can be introduced with slight changes to the following code."
      ]
    },
    {
      "cell_type": "code",
      "execution_count": 15,
      "metadata": {
        "id": "gyPJ-mfkxEvB"
      },
      "outputs": [],
      "source": [
        "class SNN:\n",
        "    def __init__(self,\n",
        "                 time_step=1e-3, nb_steps=200, batch_size=256,\n",
        "                 nb_inputs=100, nb_hidden=4, nb_outputs=2,\n",
        "                 tau_mem=10e-3, tau_syn=5e-3, weight_scale=None,\n",
        "                 verbose=True, use_gpu=True, dtype=None, device=None, seed=None):\n",
        "        # Initialize torch parameters\n",
        "        self.verbose = verbose\n",
        "        self._dtype = torch.float if dtype is None else dtype\n",
        "        self._device = (self._init_gpu() if use_gpu else torch.device('cpu')) if device is None else device\n",
        "        self._seed = seed\n",
        "        if self._seed is not None:\n",
        "            torch.manual_seed(self._seed)\n",
        "        # Initialize simulation parameters\n",
        "        self._dt = time_step\n",
        "        self.nb_ts = nb_steps\n",
        "        # Initialize network parameters\n",
        "        self.nb_in = nb_inputs\n",
        "        self.nb_hid = nb_hidden\n",
        "        self.nb_out = nb_outputs\n",
        "        self.batch_sz = batch_size\n",
        "        # Initialize LIF-neuron parameters\n",
        "        self._tau_mem = tau_mem\n",
        "        self._tau_syn = tau_syn\n",
        "        self._alpha = float(np.exp(-self._dt / self._tau_syn))\n",
        "        self._beta = float(np.exp(-self._dt / self._tau_mem))\n",
        "        # Define activation function\n",
        "        self._spike_fn = SurrGradSpike.apply\n",
        "        # Initialize weights\n",
        "        self.weight_scale = 7 * (1.0 - self._beta) if weight_scale is None \\\n",
        "            else weight_scale  # make sure the given weight scale will give us some spikes to begin with\n",
        "        self._w1, self._w2 = self.init_weights()\n",
        "\n",
        "    @property\n",
        "    def seed(self):\n",
        "        return self._seed\n",
        "\n",
        "    @seed.setter\n",
        "    def seed(self, new_value):\n",
        "        self._seed = new_value\n",
        "        if self._seed is not None:\n",
        "            torch.manual_seed(self._seed)\n",
        "\n",
        "    @property\n",
        "    def tau_mem(self):\n",
        "        return self._tau_mem\n",
        "\n",
        "    @tau_mem.setter\n",
        "    def tau_mem(self, new_value):\n",
        "        self._tau_mem = new_value\n",
        "        self._beta = float(np.exp(-self._dt / self._tau_mem))\n",
        "\n",
        "    @property\n",
        "    def tau_syn(self):\n",
        "        return self._tau_syn\n",
        "\n",
        "    @tau_syn.setter\n",
        "    def tau_syn(self, new_value):\n",
        "        self._tau_syn = new_value\n",
        "        self._alpha = float(np.exp(-self._dt / self._tau_syn))\n",
        "\n",
        "    @property\n",
        "    def time_step(self):\n",
        "        return self._dt\n",
        "\n",
        "    @time_step.setter\n",
        "    def time_step(self, new_value):\n",
        "        self._dt = new_value\n",
        "        self._alpha = float(np.exp(-self._dt / self._tau_syn))\n",
        "        self._beta = float(np.exp(-self._dt / self._tau_mem))\n",
        "\n",
        "    @property\n",
        "    def weights(self):\n",
        "        return [np.copy(self._w1.cpu().detach().numpy()),\n",
        "                np.copy(self._w2.cpu().detach().numpy())]\n",
        "\n",
        "    def _init_gpu(self):\n",
        "        # Use GPU if possible!\n",
        "        return get_torch_device(self.verbose)\n",
        "      \n",
        "    def init_weights(self):\n",
        "        # Feedforward weights\n",
        "        w_1 = torch.empty((self.nb_in, self.nb_hid), device=self._device, dtype=self._dtype, requires_grad=True)\n",
        "        torch.nn.init.normal_(w_1, mean=0.0, std=self.weight_scale / np.sqrt(self.nb_in))\n",
        "        w_2 = torch.empty((self.nb_hid, self.nb_out), device=self._device, dtype=self._dtype, requires_grad=True)\n",
        "        torch.nn.init.normal_(w_2, mean=0.0, std=self.weight_scale / np.sqrt(self.nb_hid))\n",
        "        return w_1, w_2\n",
        "\n",
        "    def sparse_data_generator(self, X, y, shuffle=True):\n",
        "        \"\"\" This generator takes datasets in analog format and generates spiking network input as sparse tensors.\n",
        "\n",
        "        Args:\n",
        "            X: The data ( sample x event x 2 ) the last dim holds (time,neuron) tuples\n",
        "            y: The labels\n",
        "        \"\"\"\n",
        "\n",
        "        labels_ = np.array(y, dtype=np.int)\n",
        "        number_of_batches = len(X) // self.batch_sz\n",
        "        sample_index = np.arange(len(X))\n",
        "\n",
        "        # compute discrete firing times\n",
        "        tau_eff = 20e-3 / self._dt\n",
        "        firing_times = np.array(current2firing_time(X, tau=tau_eff, tmax=self.nb_ts), dtype=np.int)\n",
        "        unit_numbers = np.arange(self.nb_in)\n",
        "\n",
        "        if shuffle:\n",
        "            np.random.shuffle(sample_index)\n",
        "\n",
        "        counter = 0\n",
        "        while counter < number_of_batches:\n",
        "            batch_index = sample_index[self.batch_sz * counter: self.batch_sz * (counter + 1)]\n",
        "\n",
        "            coo = [[], [], []]\n",
        "            for bc, idx in enumerate(batch_index):\n",
        "                c = firing_times[idx] < self.nb_ts\n",
        "                times, units = firing_times[idx][c], unit_numbers[c]\n",
        "\n",
        "                batch = [bc for _ in range(len(times))]\n",
        "                coo[0].extend(batch)\n",
        "                coo[1].extend(times)\n",
        "                coo[2].extend(units)\n",
        "\n",
        "            i = torch.LongTensor(coo).to(self._device)\n",
        "            v = torch.FloatTensor(np.ones(len(coo[0]))).to(self._device)\n",
        "\n",
        "            X_batch = torch.sparse.FloatTensor(i, v,\n",
        "                                               torch.Size([self.batch_sz, self.nb_ts, self.nb_in])).to(self._device)\n",
        "            y_batch = torch.tensor(labels_[batch_index], device=self._device)\n",
        "\n",
        "            yield X_batch.to(device=self._device), y_batch.to(device=self._device)\n",
        "\n",
        "            counter += 1\n",
        "\n",
        "    def get_mini_batch(self, X, y, shuffle=False):\n",
        "        for ret in self.sparse_data_generator(X, y, shuffle=shuffle):\n",
        "            return ret\n",
        "\n",
        "    def run(self, X):\n",
        "        # Compute HIDDEN layer activity\n",
        "        h1 = torch.einsum(\"abc,cd->abd\",\n",
        "                          (X, self._w1))  # weighted input to hidden layer: (batch_size, nb_steps, nb_hidden)\n",
        "        syn = torch.zeros((self.batch_sz, self.nb_hid), device=self._device, dtype=self._dtype)\n",
        "        mem = torch.zeros((self.batch_sz, self.nb_hid), device=self._device, dtype=self._dtype)\n",
        "        hidden_mem, hidden_spk = [], []\n",
        "        for t in range(self.nb_ts):\n",
        "            # Compute spikes\n",
        "            mthr = mem - 1.0\n",
        "            spk = self._spike_fn(mthr)\n",
        "            rst = spk.detach()  # We do not want to backprop through the reset\n",
        "\n",
        "            # Compute internal variables\n",
        "            new_syn = self._alpha * syn + h1[:, t]\n",
        "            new_mem = (self._beta * mem + syn) * (1.0 - rst)\n",
        "\n",
        "            # Record some variables\n",
        "            hidden_mem.append(mem)\n",
        "            hidden_spk.append(spk)\n",
        "\n",
        "            # Update internal variables\n",
        "            mem = new_mem\n",
        "            syn = new_syn\n",
        "        hidden_mem = torch.stack(hidden_mem, dim=1)\n",
        "        hidden_spk = torch.stack(hidden_spk, dim=1)\n",
        "\n",
        "        # Compute READOUT layer activity\n",
        "        h2 = torch.einsum(\"abc,cd->abd\",\n",
        "                          (hidden_spk, self._w2))  # weighted input to the readout: (batch_size, nb_steps, nb_outputs)\n",
        "        syn = torch.zeros((self.batch_sz, self.nb_out), device=self._device, dtype=self._dtype)\n",
        "        mem = torch.zeros((self.batch_sz, self.nb_out), device=self._device, dtype=self._dtype)\n",
        "        readout_mem = [mem]\n",
        "        for t in range(self.nb_ts):\n",
        "            # Compute internal variables\n",
        "            new_syn = self._alpha * syn + h2[:, t]\n",
        "            new_mem = self._beta * mem + syn\n",
        "\n",
        "            # Update internal variables\n",
        "            syn = new_syn\n",
        "            mem = new_mem\n",
        "\n",
        "            # Record some variables\n",
        "            readout_mem.append(mem)\n",
        "        readout_mem = torch.stack(readout_mem, dim=1)\n",
        "\n",
        "        return readout_mem, [hidden_mem, hidden_spk]\n",
        "\n",
        "    def train(self, X, y, epochs=1000, lr=2e-3, refresh_pbar=True):\n",
        "        if self.verbose:\n",
        "            t0 = time.time()\n",
        "            print('\\nTraining the SNN with Surrogate gradient...')\n",
        "\n",
        "        params = [self._w1, self._w2]  # parameters to optimize\n",
        "        optimizer = torch.optim.Adam(params, lr=lr, betas=(0.9, 0.999))  # The optimizer we are going to use\n",
        "\n",
        "        log_softmax_fn = nn.LogSoftmax(dim=1)  # The log softmax function across output units\n",
        "        loss_fn = nn.NLLLoss()  # The negative log likelihood loss function\n",
        "\n",
        "        # The optimization loop\n",
        "        loss_hist = []\n",
        "        pbar = tqdm(total=epochs, desc='Epoch 0 (loss=N.D.)', file=sys.stdout, leave=True)\n",
        "        for e in range(epochs):\n",
        "            local_loss = []\n",
        "            for x_local, y_local in self.sparse_data_generator(X, y, shuffle=True):\n",
        "                # Run the network and get output\n",
        "                output, _ = self.run(x_local.to_dense())\n",
        "\n",
        "                # Compute the loss\n",
        "                m, _ = torch.max(output, 1)\n",
        "                log_p_y = log_softmax_fn(m)\n",
        "                loss_val = loss_fn(log_p_y, y_local)\n",
        "\n",
        "                # Update the weights\n",
        "                optimizer.zero_grad()\n",
        "                loss_val.backward()\n",
        "                optimizer.step()\n",
        "\n",
        "                # Store local loss values\n",
        "                local_loss.append(loss_val.item())\n",
        "\n",
        "            # Compute mean local loss at each epoch and store it\n",
        "            mean_loss = float(np.mean(local_loss))\n",
        "            loss_hist.append(mean_loss)\n",
        "\n",
        "            # Update the progress bar\n",
        "            pbar.update(1)\n",
        "            pbar.set_description(\"Epoch %i (loss=%.3f)\" % (e + 1, mean_loss), refresh=refresh_pbar)\n",
        "            # print(\"Epoch %i: loss=%.4f\" % (e + 1, mean_loss))\n",
        "        pbar.close()\n",
        "        if self.verbose:\n",
        "            print('It took %.1f minutes to train the SNN.' % ((time.time() - t0) / 60))\n",
        "\n",
        "        return loss_hist\n",
        "\n",
        "    def predict(self, X):\n",
        "        return self.run(X)\n",
        "\n",
        "    def evaluate_accuracy(self, X, y):\n",
        "        \"\"\" Computes classification accuracy on supplied data in batches. \"\"\"\n",
        "        accs = []\n",
        "        for x_local, y_local in self.sparse_data_generator(X, y, shuffle=False):\n",
        "            y_pred, _ = self.predict(x_local.to_dense())\n",
        "            m, _ = torch.max(y_pred, 1)  # max over time\n",
        "            _, am = torch.max(m, 1)  # argmax over output units\n",
        "            tmp = np.mean((y_local == am).detach().cpu().numpy())  # compare to labels\n",
        "            accs.append(tmp)\n",
        "        mean_acc = np.mean(accs)\n",
        "        if self.verbose:\n",
        "            print(\"Accuracy is %.3f\" % mean_acc)\n",
        "        return mean_acc\n",
        "\n",
        "    def plot_voltage_traces(self, mem, spk=None, dim=(3, 5), spike_height=5, title=None, show=True):\n",
        "        fig = plt.figure(figsize=(12, 8))\n",
        "        title = 'Membrane Voltages of the SNN trained with Surrogate Gradient' if not title else title\n",
        "        fig.suptitle(title)\n",
        "        gs = GridSpec(*dim, figure=fig)\n",
        "        if spk is not None:\n",
        "            dat = 1.0 * mem\n",
        "            dat[spk > 0.0] = spike_height\n",
        "            dat = dat.detach().cpu().numpy()\n",
        "        else:\n",
        "            dat = mem.detach().cpu().numpy()\n",
        "        for i in range(np.prod(dim)):\n",
        "            if i == 0:\n",
        "                a0 = ax = plt.subplot(gs[i])\n",
        "            else:\n",
        "                ax = plt.subplot(gs[i], sharey=a0)\n",
        "            ax.plot(dat[i])\n",
        "            ax.axis(\"off\")\n",
        "        if show:\n",
        "            plt.show()\n",
        "\n",
        "    def plot_loss(self, loss, title=None):\n",
        "        fig = plt.figure(figsize=(5, 5))\n",
        "        title = 'Loss of the SNN trained with Surrogate Gradient' if not title else title\n",
        "        fig.suptitle(title)\n",
        "        plt.plot(loss)\n",
        "        plt.xlabel(\"Epoch\")\n",
        "        plt.ylabel(\"Loss\")\n",
        "        sns.despine()\n",
        "        plt.show()"
      ]
    },
    {
      "cell_type": "markdown",
      "metadata": {
        "id": "qK_JrnekxEvC"
      },
      "source": [
        "## Train and evaluate performance of the SNN"
      ]
    },
    {
      "cell_type": "code",
      "execution_count": 16,
      "metadata": {
        "colab": {
          "base_uri": "https://localhost:8080/"
        },
        "id": "sxF90A4axEvC",
        "outputId": "6b19d561-3830-4a45-868d-3f8cc31f019b"
      },
      "outputs": [
        {
          "output_type": "stream",
          "name": "stdout",
          "text": [
            "\n",
            "Training the SNN with Surrogate gradient...\n",
            "Epoch 0 (loss=N.D.):   0%|          | 0/10 [00:00<?, ?it/s]"
          ]
        },
        {
          "output_type": "stream",
          "name": "stderr",
          "text": [
            "/usr/local/lib/python3.7/dist-packages/ipykernel_launcher.py:97: DeprecationWarning: `np.int` is a deprecated alias for the builtin `int`. To silence this warning, use `int` by itself. Doing this will not modify any behavior and is safe. When replacing `np.int`, you may wish to use e.g. `np.int64` or `np.int32` to specify the precision. If you wish to review your current use, check the release note link for additional information.\n",
            "Deprecated in NumPy 1.20; for more details and guidance: https://numpy.org/devdocs/release/1.20.0-notes.html#deprecations\n",
            "/usr/local/lib/python3.7/dist-packages/ipykernel_launcher.py:103: DeprecationWarning: `np.int` is a deprecated alias for the builtin `int`. To silence this warning, use `int` by itself. Doing this will not modify any behavior and is safe. When replacing `np.int`, you may wish to use e.g. `np.int64` or `np.int32` to specify the precision. If you wish to review your current use, check the release note link for additional information.\n",
            "Deprecated in NumPy 1.20; for more details and guidance: https://numpy.org/devdocs/release/1.20.0-notes.html#deprecations\n"
          ]
        },
        {
          "output_type": "stream",
          "name": "stdout",
          "text": [
            "Epoch 10 (loss=0.357): 100%|██████████| 10/10 [03:49<00:00, 22.91s/it]\n",
            "It took 3.8 minutes to train the SNN.\n",
            "Training accuracy: 0.876\n",
            "Test accuracy: 0.849\n"
          ]
        }
      ],
      "source": [
        "snn = SNN(time_step=time_step, nb_steps=nb_steps,\n",
        "          nb_inputs=nb_inputs, nb_hidden=nb_hidden, nb_outputs=nb_outputs,\n",
        "          batch_size=batch_size, tau_mem=tau_mem, tau_syn=tau_syn, weight_scale=weight_scale,\n",
        "          device=device, dtype=dtype, seed=seed, verbose=True)\n",
        "\n",
        "loss = snn.train(x_train, y_train, epochs=nb_epochs, lr=lr)\n",
        "\n",
        "snn.verbose = False\n",
        "acc_train = snn.evaluate_accuracy(x_train, y_train)\n",
        "acc_test = snn.evaluate_accuracy(x_test, y_test)\n",
        "print(\"Training accuracy: %.3f\" % acc_train)\n",
        "print(\"Test accuracy: %.3f\" % acc_test)"
      ]
    },
    {
      "cell_type": "markdown",
      "metadata": {
        "id": "UgW7164JxEvC"
      },
      "source": [
        "Let's plot the loss as a function of training epochs."
      ]
    },
    {
      "cell_type": "code",
      "execution_count": 17,
      "metadata": {
        "colab": {
          "base_uri": "https://localhost:8080/",
          "height": 370
        },
        "id": "6V6BwkHTxEvC",
        "outputId": "c1f2f5bb-9689-4743-f61f-8dd91af0585c"
      },
      "outputs": [
        {
          "output_type": "display_data",
          "data": {
            "text/plain": [
              "<Figure size 360x360 with 1 Axes>"
            ],
            "image/png": "[encoded data removed]"
          },
          "metadata": {
            "needs_background": "light"
          }
        }
      ],
      "source": [
        "snn.plot_loss(loss,\n",
        "              title='Loss of the SNN on the Fashion MNIST dataset')"
      ]
    },
    {
      "cell_type": "markdown",
      "metadata": {
        "id": "rCpVVufrxEvC"
      },
      "source": [
        "Predict the output on a single batch of the test dataset."
      ]
    },
    {
      "cell_type": "code",
      "execution_count": 18,
      "metadata": {
        "colab": {
          "base_uri": "https://localhost:8080/"
        },
        "id": "WOK8M2UwxEvC",
        "outputId": "e63260a8-f27d-4871-9797-b4fed8a26864"
      },
      "outputs": [
        {
          "output_type": "stream",
          "name": "stderr",
          "text": [
            "/usr/local/lib/python3.7/dist-packages/ipykernel_launcher.py:97: DeprecationWarning: `np.int` is a deprecated alias for the builtin `int`. To silence this warning, use `int` by itself. Doing this will not modify any behavior and is safe. When replacing `np.int`, you may wish to use e.g. `np.int64` or `np.int32` to specify the precision. If you wish to review your current use, check the release note link for additional information.\n",
            "Deprecated in NumPy 1.20; for more details and guidance: https://numpy.org/devdocs/release/1.20.0-notes.html#deprecations\n",
            "/usr/local/lib/python3.7/dist-packages/ipykernel_launcher.py:103: DeprecationWarning: `np.int` is a deprecated alias for the builtin `int`. To silence this warning, use `int` by itself. Doing this will not modify any behavior and is safe. When replacing `np.int`, you may wish to use e.g. `np.int64` or `np.int32` to specify the precision. If you wish to review your current use, check the release note link for additional information.\n",
            "Deprecated in NumPy 1.20; for more details and guidance: https://numpy.org/devdocs/release/1.20.0-notes.html#deprecations\n"
          ]
        }
      ],
      "source": [
        "x_batch, y_batch = snn.get_mini_batch(x_test, y_test)\n",
        "output, [mem_hid, spk_hid] = snn.predict(x_batch.to_dense())"
      ]
    },
    {
      "cell_type": "markdown",
      "metadata": {
        "id": "ThiIJI5WxEvC"
      },
      "source": [
        "Plot the HIDDEN layer's membrane traces."
      ]
    },
    {
      "cell_type": "code",
      "execution_count": 19,
      "metadata": {
        "colab": {
          "base_uri": "https://localhost:8080/",
          "height": 523
        },
        "id": "9fnowQzUxEvC",
        "outputId": "8d0abc1d-65ac-4aaa-e83a-c21c3c4b68bb"
      },
      "outputs": [
        {
          "output_type": "display_data",
          "data": {
            "text/plain": [
              "<Figure size 864x576 with 15 Axes>"
            ],
            "image/png": "[encoded data removed]"
          },
          "metadata": {
            "needs_background": "light"
          }
        }
      ],
      "source": [
        "snn.plot_voltage_traces(mem_hid, spk_hid,\n",
        "                        title='Membrane traces of the Hidden layer')"
      ]
    },
    {
      "cell_type": "markdown",
      "metadata": {
        "id": "1uNyRkQBxEvC"
      },
      "source": [
        "Plot the READOUT layer's membrane traces."
      ]
    },
    {
      "cell_type": "code",
      "execution_count": 20,
      "metadata": {
        "colab": {
          "base_uri": "https://localhost:8080/",
          "height": 523
        },
        "id": "B2iu3zJJxEvC",
        "outputId": "2dc2c1a5-5ccc-4f10-b8c6-d324b266ad27"
      },
      "outputs": [
        {
          "output_type": "display_data",
          "data": {
            "text/plain": [
              "<Figure size 864x576 with 15 Axes>"
            ],
            "image/png": "[encoded data removed]"
          },
          "metadata": {
            "needs_background": "light"
          }
        }
      ],
      "source": [
        "snn.plot_voltage_traces(output,\n",
        "                        title='Membrane traces of the Readout layer')"
      ]
    },
    {
      "cell_type": "markdown",
      "metadata": {
        "id": "mTfngn9bxEvD"
      },
      "source": [
        "Let's plot the HIDDEN layer's spiking activity for some input stimuli."
      ]
    },
    {
      "cell_type": "code",
      "execution_count": 21,
      "metadata": {
        "colab": {
          "base_uri": "https://localhost:8080/",
          "height": 272
        },
        "id": "3nGWB1mBxEvD",
        "outputId": "414cdc72-1384-46b9-8572-9155525776c6"
      },
      "outputs": [
        {
          "output_type": "display_data",
          "data": {
            "text/plain": [
              "<Figure size 864x288 with 4 Axes>"
            ],
            "image/png": "[encoded data removed]"
          },
          "metadata": {
            "needs_background": "light"
          }
        }
      ],
      "source": [
        "nb_plt = 4\n",
        "gs = GridSpec(1, nb_plt)\n",
        "fig = plt.figure(figsize=(12, 4))\n",
        "fig.suptitle('Spiking activity of some neurons in the Hidden layer')\n",
        "for i in range(nb_plt):\n",
        "    plt.subplot(gs[i])\n",
        "    plt.imshow(spk_hid[i].detach().cpu().numpy().T, cmap=plt.cm.gray_r, origin=\"lower\")\n",
        "    plt.xlabel(\"Time\")\n",
        "    if i == 0:\n",
        "        plt.ylabel(\"Units\")\n",
        "    sns.despine()\n",
        "plt.show()"
      ]
    },
    {
      "cell_type": "markdown",
      "metadata": {
        "id": "pUs7LVpSxEvD"
      },
      "source": [
        "In conclusion, we see that already this simple spiking network solves the classification problem with ~85% accuracy on the test set, and there is plenty of room left for tweaking. However, the hidden layer activities do not look very biological.\n",
        "\n",
        "Although the network displays population sparseness in that only a subset of neurons are active at any given time, the individual neurons' firing rates are pathologically high. It is not too surprising since we have not incentivized low activity levels in any way. We could address this issue by adding an activity regularization in the network, but this is out of the scope of these tutorials."
      ]
    },
    {
      "cell_type": "markdown",
      "metadata": {
        "id": "bfrks4D7xEvD"
      },
      "source": [
        "\n",
        "---\n",
        "\n",
        "\n",
        "# References & End Notes\n",
        "\n",
        "This notebook is based on the work of Friedemann Zenke, with some changes on both code and text. Give a look at this [repository](https://github.com/fzenke/spytorch) for more tutorials on training SNNs with surrogate gradient. If you want to know more on surrogate gradient learning, give a look at this [paper](https://ieeexplore.ieee.org/document/8891809).\n"
      ]
    }
  ],
  "metadata": {
    "kernelspec": {
      "display_name": "Python 3",
      "language": "python",
      "name": "python3"
    },
    "language_info": {
      "codemirror_mode": {
        "name": "ipython",
        "version": 3
      },
      "file_extension": ".py",
      "mimetype": "text/x-python",
      "name": "python",
      "nbconvert_exporter": "python",
      "pygments_lexer": "ipython3",
      "version": "3.8.10"
    },
    "colab": {
      "provenance": []
    },
    "accelerator": "GPU",
    "gpuClass": "standard",
    "widgets": {
      "application/vnd.jupyter.widget-state+json": {
        "27ab1415f2a448d3a7e08f1c16f4a972": {
          "model_module": "@jupyter-widgets/controls",
          "model_name": "HBoxModel",
          "model_module_version": "1.5.0",
          "state": {
            "_dom_classes": [],
            "_model_module": "@jupyter-widgets/controls",
            "_model_module_version": "1.5.0",
            "_model_name": "HBoxModel",
            "_view_count": null,
            "_view_module": "@jupyter-widgets/controls",
            "_view_module_version": "1.5.0",
            "_view_name": "HBoxView",
            "box_style": "",
            "children": [
              "IPY_MODEL_0ed08b6dc16c4cb4982da16bd7048460",
              "IPY_MODEL_6656f0bded0043708fc386ef7781e7eb",
              "IPY_MODEL_28f2eecd73e04e5ead5b166f7b3291de"
            ],
            "layout": "IPY_MODEL_019e54a03eb142f58787b9b3c9c61f32"
          }
        },
        "0ed08b6dc16c4cb4982da16bd7048460": {
          "model_module": "@jupyter-widgets/controls",
          "model_name": "HTMLModel",
          "model_module_version": "1.5.0",
          "state": {
            "_dom_classes": [],
            "_model_module": "@jupyter-widgets/controls",
            "_model_module_version": "1.5.0",
            "_model_name": "HTMLModel",
            "_view_count": null,
            "_view_module": "@jupyter-widgets/controls",
            "_view_module_version": "1.5.0",
            "_view_name": "HTMLView",
            "description": "",
            "description_tooltip": null,
            "layout": "IPY_MODEL_64bb6edbba5d4c49a2571328092aa39a",
            "placeholder": "​",
            "style": "IPY_MODEL_7fa167264baa415eb81def76ae2e454e",
            "value": "100%"
          }
        },
        "6656f0bded0043708fc386ef7781e7eb": {
          "model_module": "@jupyter-widgets/controls",
          "model_name": "FloatProgressModel",
          "model_module_version": "1.5.0",
          "state": {
            "_dom_classes": [],
            "_model_module": "@jupyter-widgets/controls",
            "_model_module_version": "1.5.0",
            "_model_name": "FloatProgressModel",
            "_view_count": null,
            "_view_module": "@jupyter-widgets/controls",
            "_view_module_version": "1.5.0",
            "_view_name": "ProgressView",
            "bar_style": "success",
            "description": "",
            "description_tooltip": null,
            "layout": "IPY_MODEL_99a7eecc3fb34d3798c0d1b6f1ec7f72",
            "max": 26421880,
            "min": 0,
            "orientation": "horizontal",
            "style": "IPY_MODEL_690ab3bd207345ffa529feb96fa4c38e",
            "value": 26421880
          }
        },
        "28f2eecd73e04e5ead5b166f7b3291de": {
          "model_module": "@jupyter-widgets/controls",
          "model_name": "HTMLModel",
          "model_module_version": "1.5.0",
          "state": {
            "_dom_classes": [],
            "_model_module": "@jupyter-widgets/controls",
            "_model_module_version": "1.5.0",
            "_model_name": "HTMLModel",
            "_view_count": null,
            "_view_module": "@jupyter-widgets/controls",
            "_view_module_version": "1.5.0",
            "_view_name": "HTMLView",
            "description": "",
            "description_tooltip": null,
            "layout": "IPY_MODEL_61fd65ab01014d36b03a423cb267e0be",
            "placeholder": "​",
            "style": "IPY_MODEL_9714a55104eb4d5d9f08dd1097a5bbdb",
            "value": " 26421880/26421880 [00:03&lt;00:00, 12147918.08it/s]"
          }
        },
        "019e54a03eb142f58787b9b3c9c61f32": {
          "model_module": "@jupyter-widgets/base",
          "model_name": "LayoutModel",
          "model_module_version": "1.2.0",
          "state": {
            "_model_module": "@jupyter-widgets/base",
            "_model_module_version": "1.2.0",
            "_model_name": "LayoutModel",
            "_view_count": null,
            "_view_module": "@jupyter-widgets/base",
            "_view_module_version": "1.2.0",
            "_view_name": "LayoutView",
            "align_content": null,
            "align_items": null,
            "align_self": null,
            "border": null,
            "bottom": null,
            "display": null,
            "flex": null,
            "flex_flow": null,
            "grid_area": null,
            "grid_auto_columns": null,
            "grid_auto_flow": null,
            "grid_auto_rows": null,
            "grid_column": null,
            "grid_gap": null,
            "grid_row": null,
            "grid_template_areas": null,
            "grid_template_columns": null,
            "grid_template_rows": null,
            "height": null,
            "justify_content": null,
            "justify_items": null,
            "left": null,
            "margin": null,
            "max_height": null,
            "max_width": null,
            "min_height": null,
            "min_width": null,
            "object_fit": null,
            "object_position": null,
            "order": null,
            "overflow": null,
            "overflow_x": null,
            "overflow_y": null,
            "padding": null,
            "right": null,
            "top": null,
            "visibility": null,
            "width": null
          }
        },
        "64bb6edbba5d4c49a2571328092aa39a": {
          "model_module": "@jupyter-widgets/base",
          "model_name": "LayoutModel",
          "model_module_version": "1.2.0",
          "state": {
            "_model_module": "@jupyter-widgets/base",
            "_model_module_version": "1.2.0",
            "_model_name": "LayoutModel",
            "_view_count": null,
            "_view_module": "@jupyter-widgets/base",
            "_view_module_version": "1.2.0",
            "_view_name": "LayoutView",
            "align_content": null,
            "align_items": null,
            "align_self": null,
            "border": null,
            "bottom": null,
            "display": null,
            "flex": null,
            "flex_flow": null,
            "grid_area": null,
            "grid_auto_columns": null,
            "grid_auto_flow": null,
            "grid_auto_rows": null,
            "grid_column": null,
            "grid_gap": null,
            "grid_row": null,
            "grid_template_areas": null,
            "grid_template_columns": null,
            "grid_template_rows": null,
            "height": null,
            "justify_content": null,
            "justify_items": null,
            "left": null,
            "margin": null,
            "max_height": null,
            "max_width": null,
            "min_height": null,
            "min_width": null,
            "object_fit": null,
            "object_position": null,
            "order": null,
            "overflow": null,
            "overflow_x": null,
            "overflow_y": null,
            "padding": null,
            "right": null,
            "top": null,
            "visibility": null,
            "width": null
          }
        },
        "7fa167264baa415eb81def76ae2e454e": {
          "model_module": "@jupyter-widgets/controls",
          "model_name": "DescriptionStyleModel",
          "model_module_version": "1.5.0",
          "state": {
            "_model_module": "@jupyter-widgets/controls",
            "_model_module_version": "1.5.0",
            "_model_name": "DescriptionStyleModel",
            "_view_count": null,
            "_view_module": "@jupyter-widgets/base",
            "_view_module_version": "1.2.0",
            "_view_name": "StyleView",
            "description_width": ""
          }
        },
        "99a7eecc3fb34d3798c0d1b6f1ec7f72": {
          "model_module": "@jupyter-widgets/base",
          "model_name": "LayoutModel",
          "model_module_version": "1.2.0",
          "state": {
            "_model_module": "@jupyter-widgets/base",
            "_model_module_version": "1.2.0",
            "_model_name": "LayoutModel",
            "_view_count": null,
            "_view_module": "@jupyter-widgets/base",
            "_view_module_version": "1.2.0",
            "_view_name": "LayoutView",
            "align_content": null,
            "align_items": null,
            "align_self": null,
            "border": null,
            "bottom": null,
            "display": null,
            "flex": null,
            "flex_flow": null,
            "grid_area": null,
            "grid_auto_columns": null,
            "grid_auto_flow": null,
            "grid_auto_rows": null,
            "grid_column": null,
            "grid_gap": null,
            "grid_row": null,
            "grid_template_areas": null,
            "grid_template_columns": null,
            "grid_template_rows": null,
            "height": null,
            "justify_content": null,
            "justify_items": null,
            "left": null,
            "margin": null,
            "max_height": null,
            "max_width": null,
            "min_height": null,
            "min_width": null,
            "object_fit": null,
            "object_position": null,
            "order": null,
            "overflow": null,
            "overflow_x": null,
            "overflow_y": null,
            "padding": null,
            "right": null,
            "top": null,
            "visibility": null,
            "width": null
          }
        },
        "690ab3bd207345ffa529feb96fa4c38e": {
          "model_module": "@jupyter-widgets/controls",
          "model_name": "ProgressStyleModel",
          "model_module_version": "1.5.0",
          "state": {
            "_model_module": "@jupyter-widgets/controls",
            "_model_module_version": "1.5.0",
            "_model_name": "ProgressStyleModel",
            "_view_count": null,
            "_view_module": "@jupyter-widgets/base",
            "_view_module_version": "1.2.0",
            "_view_name": "StyleView",
            "bar_color": null,
            "description_width": ""
          }
        },
        "61fd65ab01014d36b03a423cb267e0be": {
          "model_module": "@jupyter-widgets/base",
          "model_name": "LayoutModel",
          "model_module_version": "1.2.0",
          "state": {
            "_model_module": "@jupyter-widgets/base",
            "_model_module_version": "1.2.0",
            "_model_name": "LayoutModel",
            "_view_count": null,
            "_view_module": "@jupyter-widgets/base",
            "_view_module_version": "1.2.0",
            "_view_name": "LayoutView",
            "align_content": null,
            "align_items": null,
            "align_self": null,
            "border": null,
            "bottom": null,
            "display": null,
            "flex": null,
            "flex_flow": null,
            "grid_area": null,
            "grid_auto_columns": null,
            "grid_auto_flow": null,
            "grid_auto_rows": null,
            "grid_column": null,
            "grid_gap": null,
            "grid_row": null,
            "grid_template_areas": null,
            "grid_template_columns": null,
            "grid_template_rows": null,
            "height": null,
            "justify_content": null,
            "justify_items": null,
            "left": null,
            "margin": null,
            "max_height": null,
            "max_width": null,
            "min_height": null,
            "min_width": null,
            "object_fit": null,
            "object_position": null,
            "order": null,
            "overflow": null,
            "overflow_x": null,
            "overflow_y": null,
            "padding": null,
            "right": null,
            "top": null,
            "visibility": null,
            "width": null
          }
        },
        "9714a55104eb4d5d9f08dd1097a5bbdb": {
          "model_module": "@jupyter-widgets/controls",
          "model_name": "DescriptionStyleModel",
          "model_module_version": "1.5.0",
          "state": {
            "_model_module": "@jupyter-widgets/controls",
            "_model_module_version": "1.5.0",
            "_model_name": "DescriptionStyleModel",
            "_view_count": null,
            "_view_module": "@jupyter-widgets/base",
            "_view_module_version": "1.2.0",
            "_view_name": "StyleView",
            "description_width": ""
          }
        },
        "0e9809be30714774a1345439e0a8e352": {
          "model_module": "@jupyter-widgets/controls",
          "model_name": "HBoxModel",
          "model_module_version": "1.5.0",
          "state": {
            "_dom_classes": [],
            "_model_module": "@jupyter-widgets/controls",
            "_model_module_version": "1.5.0",
            "_model_name": "HBoxModel",
            "_view_count": null,
            "_view_module": "@jupyter-widgets/controls",
            "_view_module_version": "1.5.0",
            "_view_name": "HBoxView",
            "box_style": "",
            "children": [
              "IPY_MODEL_82760fa677cb4756af644d114fe02431",
              "IPY_MODEL_d375fd1e6e234ade9979608a7c0910b1",
              "IPY_MODEL_7fe27a31e3d042679350d0ee280ce24d"
            ],
            "layout": "IPY_MODEL_8d7993fa4af64a759d74fd8d2b9dc441"
          }
        },
        "82760fa677cb4756af644d114fe02431": {
          "model_module": "@jupyter-widgets/controls",
          "model_name": "HTMLModel",
          "model_module_version": "1.5.0",
          "state": {
            "_dom_classes": [],
            "_model_module": "@jupyter-widgets/controls",
            "_model_module_version": "1.5.0",
            "_model_name": "HTMLModel",
            "_view_count": null,
            "_view_module": "@jupyter-widgets/controls",
            "_view_module_version": "1.5.0",
            "_view_name": "HTMLView",
            "description": "",
            "description_tooltip": null,
            "layout": "IPY_MODEL_02e384a9d3e7486cbbdc05fdf84bb080",
            "placeholder": "​",
            "style": "IPY_MODEL_2863df5261b24006b43244492fb99054",
            "value": "100%"
          }
        },
        "d375fd1e6e234ade9979608a7c0910b1": {
          "model_module": "@jupyter-widgets/controls",
          "model_name": "FloatProgressModel",
          "model_module_version": "1.5.0",
          "state": {
            "_dom_classes": [],
            "_model_module": "@jupyter-widgets/controls",
            "_model_module_version": "1.5.0",
            "_model_name": "FloatProgressModel",
            "_view_count": null,
            "_view_module": "@jupyter-widgets/controls",
            "_view_module_version": "1.5.0",
            "_view_name": "ProgressView",
            "bar_style": "success",
            "description": "",
            "description_tooltip": null,
            "layout": "IPY_MODEL_f1455b8bd24c41a39ad24de8b9033acf",
            "max": 29515,
            "min": 0,
            "orientation": "horizontal",
            "style": "IPY_MODEL_7d30f99d77e8447fbb8429d11424543c",
            "value": 29515
          }
        },
        "7fe27a31e3d042679350d0ee280ce24d": {
          "model_module": "@jupyter-widgets/controls",
          "model_name": "HTMLModel",
          "model_module_version": "1.5.0",
          "state": {
            "_dom_classes": [],
            "_model_module": "@jupyter-widgets/controls",
            "_model_module_version": "1.5.0",
            "_model_name": "HTMLModel",
            "_view_count": null,
            "_view_module": "@jupyter-widgets/controls",
            "_view_module_version": "1.5.0",
            "_view_name": "HTMLView",
            "description": "",
            "description_tooltip": null,
            "layout": "IPY_MODEL_1be68436f3354515a3186277dc5efcda",
            "placeholder": "​",
            "style": "IPY_MODEL_fcbea7972cab48ccb99db3af8f956863",
            "value": " 29515/29515 [00:00&lt;00:00, 144935.97it/s]"
          }
        },
        "8d7993fa4af64a759d74fd8d2b9dc441": {
          "model_module": "@jupyter-widgets/base",
          "model_name": "LayoutModel",
          "model_module_version": "1.2.0",
          "state": {
            "_model_module": "@jupyter-widgets/base",
            "_model_module_version": "1.2.0",
            "_model_name": "LayoutModel",
            "_view_count": null,
            "_view_module": "@jupyter-widgets/base",
            "_view_module_version": "1.2.0",
            "_view_name": "LayoutView",
            "align_content": null,
            "align_items": null,
            "align_self": null,
            "border": null,
            "bottom": null,
            "display": null,
            "flex": null,
            "flex_flow": null,
            "grid_area": null,
            "grid_auto_columns": null,
            "grid_auto_flow": null,
            "grid_auto_rows": null,
            "grid_column": null,
            "grid_gap": null,
            "grid_row": null,
            "grid_template_areas": null,
            "grid_template_columns": null,
            "grid_template_rows": null,
            "height": null,
            "justify_content": null,
            "justify_items": null,
            "left": null,
            "margin": null,
            "max_height": null,
            "max_width": null,
            "min_height": null,
            "min_width": null,
            "object_fit": null,
            "object_position": null,
            "order": null,
            "overflow": null,
            "overflow_x": null,
            "overflow_y": null,
            "padding": null,
            "right": null,
            "top": null,
            "visibility": null,
            "width": null
          }
        },
        "02e384a9d3e7486cbbdc05fdf84bb080": {
          "model_module": "@jupyter-widgets/base",
          "model_name": "LayoutModel",
          "model_module_version": "1.2.0",
          "state": {
            "_model_module": "@jupyter-widgets/base",
            "_model_module_version": "1.2.0",
            "_model_name": "LayoutModel",
            "_view_count": null,
            "_view_module": "@jupyter-widgets/base",
            "_view_module_version": "1.2.0",
            "_view_name": "LayoutView",
            "align_content": null,
            "align_items": null,
            "align_self": null,
            "border": null,
            "bottom": null,
            "display": null,
            "flex": null,
            "flex_flow": null,
            "grid_area": null,
            "grid_auto_columns": null,
            "grid_auto_flow": null,
            "grid_auto_rows": null,
            "grid_column": null,
            "grid_gap": null,
            "grid_row": null,
            "grid_template_areas": null,
            "grid_template_columns": null,
            "grid_template_rows": null,
            "height": null,
            "justify_content": null,
            "justify_items": null,
            "left": null,
            "margin": null,
            "max_height": null,
            "max_width": null,
            "min_height": null,
            "min_width": null,
            "object_fit": null,
            "object_position": null,
            "order": null,
            "overflow": null,
            "overflow_x": null,
            "overflow_y": null,
            "padding": null,
            "right": null,
            "top": null,
            "visibility": null,
            "width": null
          }
        },
        "2863df5261b24006b43244492fb99054": {
          "model_module": "@jupyter-widgets/controls",
          "model_name": "DescriptionStyleModel",
          "model_module_version": "1.5.0",
          "state": {
            "_model_module": "@jupyter-widgets/controls",
            "_model_module_version": "1.5.0",
            "_model_name": "DescriptionStyleModel",
            "_view_count": null,
            "_view_module": "@jupyter-widgets/base",
            "_view_module_version": "1.2.0",
            "_view_name": "StyleView",
            "description_width": ""
          }
        },
        "f1455b8bd24c41a39ad24de8b9033acf": {
          "model_module": "@jupyter-widgets/base",
          "model_name": "LayoutModel",
          "model_module_version": "1.2.0",
          "state": {
            "_model_module": "@jupyter-widgets/base",
            "_model_module_version": "1.2.0",
            "_model_name": "LayoutModel",
            "_view_count": null,
            "_view_module": "@jupyter-widgets/base",
            "_view_module_version": "1.2.0",
            "_view_name": "LayoutView",
            "align_content": null,
            "align_items": null,
            "align_self": null,
            "border": null,
            "bottom": null,
            "display": null,
            "flex": null,
            "flex_flow": null,
            "grid_area": null,
            "grid_auto_columns": null,
            "grid_auto_flow": null,
            "grid_auto_rows": null,
            "grid_column": null,
            "grid_gap": null,
            "grid_row": null,
            "grid_template_areas": null,
            "grid_template_columns": null,
            "grid_template_rows": null,
            "height": null,
            "justify_content": null,
            "justify_items": null,
            "left": null,
            "margin": null,
            "max_height": null,
            "max_width": null,
            "min_height": null,
            "min_width": null,
            "object_fit": null,
            "object_position": null,
            "order": null,
            "overflow": null,
            "overflow_x": null,
            "overflow_y": null,
            "padding": null,
            "right": null,
            "top": null,
            "visibility": null,
            "width": null
          }
        },
        "7d30f99d77e8447fbb8429d11424543c": {
          "model_module": "@jupyter-widgets/controls",
          "model_name": "ProgressStyleModel",
          "model_module_version": "1.5.0",
          "state": {
            "_model_module": "@jupyter-widgets/controls",
            "_model_module_version": "1.5.0",
            "_model_name": "ProgressStyleModel",
            "_view_count": null,
            "_view_module": "@jupyter-widgets/base",
            "_view_module_version": "1.2.0",
            "_view_name": "StyleView",
            "bar_color": null,
            "description_width": ""
          }
        },
        "1be68436f3354515a3186277dc5efcda": {
          "model_module": "@jupyter-widgets/base",
          "model_name": "LayoutModel",
          "model_module_version": "1.2.0",
          "state": {
            "_model_module": "@jupyter-widgets/base",
            "_model_module_version": "1.2.0",
            "_model_name": "LayoutModel",
            "_view_count": null,
            "_view_module": "@jupyter-widgets/base",
            "_view_module_version": "1.2.0",
            "_view_name": "LayoutView",
            "align_content": null,
            "align_items": null,
            "align_self": null,
            "border": null,
            "bottom": null,
            "display": null,
            "flex": null,
            "flex_flow": null,
            "grid_area": null,
            "grid_auto_columns": null,
            "grid_auto_flow": null,
            "grid_auto_rows": null,
            "grid_column": null,
            "grid_gap": null,
            "grid_row": null,
            "grid_template_areas": null,
            "grid_template_columns": null,
            "grid_template_rows": null,
            "height": null,
            "justify_content": null,
            "justify_items": null,
            "left": null,
            "margin": null,
            "max_height": null,
            "max_width": null,
            "min_height": null,
            "min_width": null,
            "object_fit": null,
            "object_position": null,
            "order": null,
            "overflow": null,
            "overflow_x": null,
            "overflow_y": null,
            "padding": null,
            "right": null,
            "top": null,
            "visibility": null,
            "width": null
          }
        },
        "fcbea7972cab48ccb99db3af8f956863": {
          "model_module": "@jupyter-widgets/controls",
          "model_name": "DescriptionStyleModel",
          "model_module_version": "1.5.0",
          "state": {
            "_model_module": "@jupyter-widgets/controls",
            "_model_module_version": "1.5.0",
            "_model_name": "DescriptionStyleModel",
            "_view_count": null,
            "_view_module": "@jupyter-widgets/base",
            "_view_module_version": "1.2.0",
            "_view_name": "StyleView",
            "description_width": ""
          }
        },
        "389ab7452db441839ef18bc2b6c458d0": {
          "model_module": "@jupyter-widgets/controls",
          "model_name": "HBoxModel",
          "model_module_version": "1.5.0",
          "state": {
            "_dom_classes": [],
            "_model_module": "@jupyter-widgets/controls",
            "_model_module_version": "1.5.0",
            "_model_name": "HBoxModel",
            "_view_count": null,
            "_view_module": "@jupyter-widgets/controls",
            "_view_module_version": "1.5.0",
            "_view_name": "HBoxView",
            "box_style": "",
            "children": [
              "IPY_MODEL_225dd9cbd919466c940ef5ab6a83af5d",
              "IPY_MODEL_c8912e6caff54df1b0bf93e0b326b5cd",
              "IPY_MODEL_262fa4957176479e876ebae0b28406cb"
            ],
            "layout": "IPY_MODEL_9ec776fe55bb43dba69742da80983060"
          }
        },
        "225dd9cbd919466c940ef5ab6a83af5d": {
          "model_module": "@jupyter-widgets/controls",
          "model_name": "HTMLModel",
          "model_module_version": "1.5.0",
          "state": {
            "_dom_classes": [],
            "_model_module": "@jupyter-widgets/controls",
            "_model_module_version": "1.5.0",
            "_model_name": "HTMLModel",
            "_view_count": null,
            "_view_module": "@jupyter-widgets/controls",
            "_view_module_version": "1.5.0",
            "_view_name": "HTMLView",
            "description": "",
            "description_tooltip": null,
            "layout": "IPY_MODEL_ef73e5c1a3864c44a65663878b9d2170",
            "placeholder": "​",
            "style": "IPY_MODEL_a3cf0ec4174a480fa2c538c1e347c4eb",
            "value": "100%"
          }
        },
        "c8912e6caff54df1b0bf93e0b326b5cd": {
          "model_module": "@jupyter-widgets/controls",
          "model_name": "FloatProgressModel",
          "model_module_version": "1.5.0",
          "state": {
            "_dom_classes": [],
            "_model_module": "@jupyter-widgets/controls",
            "_model_module_version": "1.5.0",
            "_model_name": "FloatProgressModel",
            "_view_count": null,
            "_view_module": "@jupyter-widgets/controls",
            "_view_module_version": "1.5.0",
            "_view_name": "ProgressView",
            "bar_style": "success",
            "description": "",
            "description_tooltip": null,
            "layout": "IPY_MODEL_6074d5cd077042ce8ae2d0d880fb3e63",
            "max": 4422102,
            "min": 0,
            "orientation": "horizontal",
            "style": "IPY_MODEL_5d686478f37445d2a349fb28a9e29b16",
            "value": 4422102
          }
        },
        "262fa4957176479e876ebae0b28406cb": {
          "model_module": "@jupyter-widgets/controls",
          "model_name": "HTMLModel",
          "model_module_version": "1.5.0",
          "state": {
            "_dom_classes": [],
            "_model_module": "@jupyter-widgets/controls",
            "_model_module_version": "1.5.0",
            "_model_name": "HTMLModel",
            "_view_count": null,
            "_view_module": "@jupyter-widgets/controls",
            "_view_module_version": "1.5.0",
            "_view_name": "HTMLView",
            "description": "",
            "description_tooltip": null,
            "layout": "IPY_MODEL_6ba784d9fc47448aa4bc22186cfdd41c",
            "placeholder": "​",
            "style": "IPY_MODEL_d0c9e8c26d874e88a3670f3f304b6ed6",
            "value": " 4422102/4422102 [00:01&lt;00:00, 4009447.00it/s]"
          }
        },
        "9ec776fe55bb43dba69742da80983060": {
          "model_module": "@jupyter-widgets/base",
          "model_name": "LayoutModel",
          "model_module_version": "1.2.0",
          "state": {
            "_model_module": "@jupyter-widgets/base",
            "_model_module_version": "1.2.0",
            "_model_name": "LayoutModel",
            "_view_count": null,
            "_view_module": "@jupyter-widgets/base",
            "_view_module_version": "1.2.0",
            "_view_name": "LayoutView",
            "align_content": null,
            "align_items": null,
            "align_self": null,
            "border": null,
            "bottom": null,
            "display": null,
            "flex": null,
            "flex_flow": null,
            "grid_area": null,
            "grid_auto_columns": null,
            "grid_auto_flow": null,
            "grid_auto_rows": null,
            "grid_column": null,
            "grid_gap": null,
            "grid_row": null,
            "grid_template_areas": null,
            "grid_template_columns": null,
            "grid_template_rows": null,
            "height": null,
            "justify_content": null,
            "justify_items": null,
            "left": null,
            "margin": null,
            "max_height": null,
            "max_width": null,
            "min_height": null,
            "min_width": null,
            "object_fit": null,
            "object_position": null,
            "order": null,
            "overflow": null,
            "overflow_x": null,
            "overflow_y": null,
            "padding": null,
            "right": null,
            "top": null,
            "visibility": null,
            "width": null
          }
        },
        "ef73e5c1a3864c44a65663878b9d2170": {
          "model_module": "@jupyter-widgets/base",
          "model_name": "LayoutModel",
          "model_module_version": "1.2.0",
          "state": {
            "_model_module": "@jupyter-widgets/base",
            "_model_module_version": "1.2.0",
            "_model_name": "LayoutModel",
            "_view_count": null,
            "_view_module": "@jupyter-widgets/base",
            "_view_module_version": "1.2.0",
            "_view_name": "LayoutView",
            "align_content": null,
            "align_items": null,
            "align_self": null,
            "border": null,
            "bottom": null,
            "display": null,
            "flex": null,
            "flex_flow": null,
            "grid_area": null,
            "grid_auto_columns": null,
            "grid_auto_flow": null,
            "grid_auto_rows": null,
            "grid_column": null,
            "grid_gap": null,
            "grid_row": null,
            "grid_template_areas": null,
            "grid_template_columns": null,
            "grid_template_rows": null,
            "height": null,
            "justify_content": null,
            "justify_items": null,
            "left": null,
            "margin": null,
            "max_height": null,
            "max_width": null,
            "min_height": null,
            "min_width": null,
            "object_fit": null,
            "object_position": null,
            "order": null,
            "overflow": null,
            "overflow_x": null,
            "overflow_y": null,
            "padding": null,
            "right": null,
            "top": null,
            "visibility": null,
            "width": null
          }
        },
        "a3cf0ec4174a480fa2c538c1e347c4eb": {
          "model_module": "@jupyter-widgets/controls",
          "model_name": "DescriptionStyleModel",
          "model_module_version": "1.5.0",
          "state": {
            "_model_module": "@jupyter-widgets/controls",
            "_model_module_version": "1.5.0",
            "_model_name": "DescriptionStyleModel",
            "_view_count": null,
            "_view_module": "@jupyter-widgets/base",
            "_view_module_version": "1.2.0",
            "_view_name": "StyleView",
            "description_width": ""
          }
        },
        "6074d5cd077042ce8ae2d0d880fb3e63": {
          "model_module": "@jupyter-widgets/base",
          "model_name": "LayoutModel",
          "model_module_version": "1.2.0",
          "state": {
            "_model_module": "@jupyter-widgets/base",
            "_model_module_version": "1.2.0",
            "_model_name": "LayoutModel",
            "_view_count": null,
            "_view_module": "@jupyter-widgets/base",
            "_view_module_version": "1.2.0",
            "_view_name": "LayoutView",
            "align_content": null,
            "align_items": null,
            "align_self": null,
            "border": null,
            "bottom": null,
            "display": null,
            "flex": null,
            "flex_flow": null,
            "grid_area": null,
            "grid_auto_columns": null,
            "grid_auto_flow": null,
            "grid_auto_rows": null,
            "grid_column": null,
            "grid_gap": null,
            "grid_row": null,
            "grid_template_areas": null,
            "grid_template_columns": null,
            "grid_template_rows": null,
            "height": null,
            "justify_content": null,
            "justify_items": null,
            "left": null,
            "margin": null,
            "max_height": null,
            "max_width": null,
            "min_height": null,
            "min_width": null,
            "object_fit": null,
            "object_position": null,
            "order": null,
            "overflow": null,
            "overflow_x": null,
            "overflow_y": null,
            "padding": null,
            "right": null,
            "top": null,
            "visibility": null,
            "width": null
          }
        },
        "5d686478f37445d2a349fb28a9e29b16": {
          "model_module": "@jupyter-widgets/controls",
          "model_name": "ProgressStyleModel",
          "model_module_version": "1.5.0",
          "state": {
            "_model_module": "@jupyter-widgets/controls",
            "_model_module_version": "1.5.0",
            "_model_name": "ProgressStyleModel",
            "_view_count": null,
            "_view_module": "@jupyter-widgets/base",
            "_view_module_version": "1.2.0",
            "_view_name": "StyleView",
            "bar_color": null,
            "description_width": ""
          }
        },
        "6ba784d9fc47448aa4bc22186cfdd41c": {
          "model_module": "@jupyter-widgets/base",
          "model_name": "LayoutModel",
          "model_module_version": "1.2.0",
          "state": {
            "_model_module": "@jupyter-widgets/base",
            "_model_module_version": "1.2.0",
            "_model_name": "LayoutModel",
            "_view_count": null,
            "_view_module": "@jupyter-widgets/base",
            "_view_module_version": "1.2.0",
            "_view_name": "LayoutView",
            "align_content": null,
            "align_items": null,
            "align_self": null,
            "border": null,
            "bottom": null,
            "display": null,
            "flex": null,
            "flex_flow": null,
            "grid_area": null,
            "grid_auto_columns": null,
            "grid_auto_flow": null,
            "grid_auto_rows": null,
            "grid_column": null,
            "grid_gap": null,
            "grid_row": null,
            "grid_template_areas": null,
            "grid_template_columns": null,
            "grid_template_rows": null,
            "height": null,
            "justify_content": null,
            "justify_items": null,
            "left": null,
            "margin": null,
            "max_height": null,
            "max_width": null,
            "min_height": null,
            "min_width": null,
            "object_fit": null,
            "object_position": null,
            "order": null,
            "overflow": null,
            "overflow_x": null,
            "overflow_y": null,
            "padding": null,
            "right": null,
            "top": null,
            "visibility": null,
            "width": null
          }
        },
        "d0c9e8c26d874e88a3670f3f304b6ed6": {
          "model_module": "@jupyter-widgets/controls",
          "model_name": "DescriptionStyleModel",
          "model_module_version": "1.5.0",
          "state": {
            "_model_module": "@jupyter-widgets/controls",
            "_model_module_version": "1.5.0",
            "_model_name": "DescriptionStyleModel",
            "_view_count": null,
            "_view_module": "@jupyter-widgets/base",
            "_view_module_version": "1.2.0",
            "_view_name": "StyleView",
            "description_width": ""
          }
        },
        "2aa0787df2f0473eaabc3d6652b007df": {
          "model_module": "@jupyter-widgets/controls",
          "model_name": "HBoxModel",
          "model_module_version": "1.5.0",
          "state": {
            "_dom_classes": [],
            "_model_module": "@jupyter-widgets/controls",
            "_model_module_version": "1.5.0",
            "_model_name": "HBoxModel",
            "_view_count": null,
            "_view_module": "@jupyter-widgets/controls",
            "_view_module_version": "1.5.0",
            "_view_name": "HBoxView",
            "box_style": "",
            "children": [
              "IPY_MODEL_c5378b39b76b4b6fafd3227a982f2840",
              "IPY_MODEL_88801251da904282ba6203f9e3105c38",
              "IPY_MODEL_7949871f6dcc41d08a2539cee0b0da6f"
            ],
            "layout": "IPY_MODEL_3973521bbbbc4ee2992bba9db9c3b0c1"
          }
        },
        "c5378b39b76b4b6fafd3227a982f2840": {
          "model_module": "@jupyter-widgets/controls",
          "model_name": "HTMLModel",
          "model_module_version": "1.5.0",
          "state": {
            "_dom_classes": [],
            "_model_module": "@jupyter-widgets/controls",
            "_model_module_version": "1.5.0",
            "_model_name": "HTMLModel",
            "_view_count": null,
            "_view_module": "@jupyter-widgets/controls",
            "_view_module_version": "1.5.0",
            "_view_name": "HTMLView",
            "description": "",
            "description_tooltip": null,
            "layout": "IPY_MODEL_dc238c67a3c94796b1627b633ec75887",
            "placeholder": "​",
            "style": "IPY_MODEL_b627c8e6681e4970bfded49bdf43b4e4",
            "value": "100%"
          }
        },
        "88801251da904282ba6203f9e3105c38": {
          "model_module": "@jupyter-widgets/controls",
          "model_name": "FloatProgressModel",
          "model_module_version": "1.5.0",
          "state": {
            "_dom_classes": [],
            "_model_module": "@jupyter-widgets/controls",
            "_model_module_version": "1.5.0",
            "_model_name": "FloatProgressModel",
            "_view_count": null,
            "_view_module": "@jupyter-widgets/controls",
            "_view_module_version": "1.5.0",
            "_view_name": "ProgressView",
            "bar_style": "success",
            "description": "",
            "description_tooltip": null,
            "layout": "IPY_MODEL_e5c1e9c0addf4fc2a7206d8f5b382be9",
            "max": 5148,
            "min": 0,
            "orientation": "horizontal",
            "style": "IPY_MODEL_ec206a99b7d14b18b25a2090779659de",
            "value": 5148
          }
        },
        "7949871f6dcc41d08a2539cee0b0da6f": {
          "model_module": "@jupyter-widgets/controls",
          "model_name": "HTMLModel",
          "model_module_version": "1.5.0",
          "state": {
            "_dom_classes": [],
            "_model_module": "@jupyter-widgets/controls",
            "_model_module_version": "1.5.0",
            "_model_name": "HTMLModel",
            "_view_count": null,
            "_view_module": "@jupyter-widgets/controls",
            "_view_module_version": "1.5.0",
            "_view_name": "HTMLView",
            "description": "",
            "description_tooltip": null,
            "layout": "IPY_MODEL_010096b0bd1d4530a636a292a2d09fb2",
            "placeholder": "​",
            "style": "IPY_MODEL_59fde1df650043a0a9b479b9890f70b7",
            "value": " 5148/5148 [00:00&lt;00:00, 33809.46it/s]"
          }
        },
        "3973521bbbbc4ee2992bba9db9c3b0c1": {
          "model_module": "@jupyter-widgets/base",
          "model_name": "LayoutModel",
          "model_module_version": "1.2.0",
          "state": {
            "_model_module": "@jupyter-widgets/base",
            "_model_module_version": "1.2.0",
            "_model_name": "LayoutModel",
            "_view_count": null,
            "_view_module": "@jupyter-widgets/base",
            "_view_module_version": "1.2.0",
            "_view_name": "LayoutView",
            "align_content": null,
            "align_items": null,
            "align_self": null,
            "border": null,
            "bottom": null,
            "display": null,
            "flex": null,
            "flex_flow": null,
            "grid_area": null,
            "grid_auto_columns": null,
            "grid_auto_flow": null,
            "grid_auto_rows": null,
            "grid_column": null,
            "grid_gap": null,
            "grid_row": null,
            "grid_template_areas": null,
            "grid_template_columns": null,
            "grid_template_rows": null,
            "height": null,
            "justify_content": null,
            "justify_items": null,
            "left": null,
            "margin": null,
            "max_height": null,
            "max_width": null,
            "min_height": null,
            "min_width": null,
            "object_fit": null,
            "object_position": null,
            "order": null,
            "overflow": null,
            "overflow_x": null,
            "overflow_y": null,
            "padding": null,
            "right": null,
            "top": null,
            "visibility": null,
            "width": null
          }
        },
        "dc238c67a3c94796b1627b633ec75887": {
          "model_module": "@jupyter-widgets/base",
          "model_name": "LayoutModel",
          "model_module_version": "1.2.0",
          "state": {
            "_model_module": "@jupyter-widgets/base",
            "_model_module_version": "1.2.0",
            "_model_name": "LayoutModel",
            "_view_count": null,
            "_view_module": "@jupyter-widgets/base",
            "_view_module_version": "1.2.0",
            "_view_name": "LayoutView",
            "align_content": null,
            "align_items": null,
            "align_self": null,
            "border": null,
            "bottom": null,
            "display": null,
            "flex": null,
            "flex_flow": null,
            "grid_area": null,
            "grid_auto_columns": null,
            "grid_auto_flow": null,
            "grid_auto_rows": null,
            "grid_column": null,
            "grid_gap": null,
            "grid_row": null,
            "grid_template_areas": null,
            "grid_template_columns": null,
            "grid_template_rows": null,
            "height": null,
            "justify_content": null,
            "justify_items": null,
            "left": null,
            "margin": null,
            "max_height": null,
            "max_width": null,
            "min_height": null,
            "min_width": null,
            "object_fit": null,
            "object_position": null,
            "order": null,
            "overflow": null,
            "overflow_x": null,
            "overflow_y": null,
            "padding": null,
            "right": null,
            "top": null,
            "visibility": null,
            "width": null
          }
        },
        "b627c8e6681e4970bfded49bdf43b4e4": {
          "model_module": "@jupyter-widgets/controls",
          "model_name": "DescriptionStyleModel",
          "model_module_version": "1.5.0",
          "state": {
            "_model_module": "@jupyter-widgets/controls",
            "_model_module_version": "1.5.0",
            "_model_name": "DescriptionStyleModel",
            "_view_count": null,
            "_view_module": "@jupyter-widgets/base",
            "_view_module_version": "1.2.0",
            "_view_name": "StyleView",
            "description_width": ""
          }
        },
        "e5c1e9c0addf4fc2a7206d8f5b382be9": {
          "model_module": "@jupyter-widgets/base",
          "model_name": "LayoutModel",
          "model_module_version": "1.2.0",
          "state": {
            "_model_module": "@jupyter-widgets/base",
            "_model_module_version": "1.2.0",
            "_model_name": "LayoutModel",
            "_view_count": null,
            "_view_module": "@jupyter-widgets/base",
            "_view_module_version": "1.2.0",
            "_view_name": "LayoutView",
            "align_content": null,
            "align_items": null,
            "align_self": null,
            "border": null,
            "bottom": null,
            "display": null,
            "flex": null,
            "flex_flow": null,
            "grid_area": null,
            "grid_auto_columns": null,
            "grid_auto_flow": null,
            "grid_auto_rows": null,
            "grid_column": null,
            "grid_gap": null,
            "grid_row": null,
            "grid_template_areas": null,
            "grid_template_columns": null,
            "grid_template_rows": null,
            "height": null,
            "justify_content": null,
            "justify_items": null,
            "left": null,
            "margin": null,
            "max_height": null,
            "max_width": null,
            "min_height": null,
            "min_width": null,
            "object_fit": null,
            "object_position": null,
            "order": null,
            "overflow": null,
            "overflow_x": null,
            "overflow_y": null,
            "padding": null,
            "right": null,
            "top": null,
            "visibility": null,
            "width": null
          }
        },
        "ec206a99b7d14b18b25a2090779659de": {
          "model_module": "@jupyter-widgets/controls",
          "model_name": "ProgressStyleModel",
          "model_module_version": "1.5.0",
          "state": {
            "_model_module": "@jupyter-widgets/controls",
            "_model_module_version": "1.5.0",
            "_model_name": "ProgressStyleModel",
            "_view_count": null,
            "_view_module": "@jupyter-widgets/base",
            "_view_module_version": "1.2.0",
            "_view_name": "StyleView",
            "bar_color": null,
            "description_width": ""
          }
        },
        "010096b0bd1d4530a636a292a2d09fb2": {
          "model_module": "@jupyter-widgets/base",
          "model_name": "LayoutModel",
          "model_module_version": "1.2.0",
          "state": {
            "_model_module": "@jupyter-widgets/base",
            "_model_module_version": "1.2.0",
            "_model_name": "LayoutModel",
            "_view_count": null,
            "_view_module": "@jupyter-widgets/base",
            "_view_module_version": "1.2.0",
            "_view_name": "LayoutView",
            "align_content": null,
            "align_items": null,
            "align_self": null,
            "border": null,
            "bottom": null,
            "display": null,
            "flex": null,
            "flex_flow": null,
            "grid_area": null,
            "grid_auto_columns": null,
            "grid_auto_flow": null,
            "grid_auto_rows": null,
            "grid_column": null,
            "grid_gap": null,
            "grid_row": null,
            "grid_template_areas": null,
            "grid_template_columns": null,
            "grid_template_rows": null,
            "height": null,
            "justify_content": null,
            "justify_items": null,
            "left": null,
            "margin": null,
            "max_height": null,
            "max_width": null,
            "min_height": null,
            "min_width": null,
            "object_fit": null,
            "object_position": null,
            "order": null,
            "overflow": null,
            "overflow_x": null,
            "overflow_y": null,
            "padding": null,
            "right": null,
            "top": null,
            "visibility": null,
            "width": null
          }
        },
        "59fde1df650043a0a9b479b9890f70b7": {
          "model_module": "@jupyter-widgets/controls",
          "model_name": "DescriptionStyleModel",
          "model_module_version": "1.5.0",
          "state": {
            "_model_module": "@jupyter-widgets/controls",
            "_model_module_version": "1.5.0",
            "_model_name": "DescriptionStyleModel",
            "_view_count": null,
            "_view_module": "@jupyter-widgets/base",
            "_view_module_version": "1.2.0",
            "_view_name": "StyleView",
            "description_width": ""
          }
        }
      }
    }
  },
  "nbformat": 4,
  "nbformat_minor": 0
}